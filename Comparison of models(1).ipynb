{
 "cells": [
  {
   "cell_type": "code",
   "execution_count": 2,
   "id": "51ca7313",
   "metadata": {},
   "outputs": [],
   "source": [
    "#importing required libraries\n",
    "\n",
    "import numpy as np\n",
    "import pandas as pd\n",
    "import matplotlib.pyplot as plt\n",
    "%matplotlib inline\n",
    "import seaborn as sns\n",
    "from sklearn import metrics \n",
    "import warnings\n",
    "warnings.filterwarnings('ignore')"
   ]
  },
  {
   "cell_type": "markdown",
   "id": "7db94f12",
   "metadata": {},
   "source": [
    "Data:\n",
    "\n",
    "Kaggle data set link https://www.kaggle.com/eswarchandt/phishing-website-detector .\n"
   ]
  },
  {
   "cell_type": "code",
   "execution_count": 3,
   "id": "ec491f22",
   "metadata": {},
   "outputs": [
    {
     "data": {
      "text/html": [
       "<div>\n",
       "<style scoped>\n",
       "    .dataframe tbody tr th:only-of-type {\n",
       "        vertical-align: middle;\n",
       "    }\n",
       "\n",
       "    .dataframe tbody tr th {\n",
       "        vertical-align: top;\n",
       "    }\n",
       "\n",
       "    .dataframe thead th {\n",
       "        text-align: right;\n",
       "    }\n",
       "</style>\n",
       "<table border=\"1\" class=\"dataframe\">\n",
       "  <thead>\n",
       "    <tr style=\"text-align: right;\">\n",
       "      <th></th>\n",
       "      <th>Index</th>\n",
       "      <th>UsingIP</th>\n",
       "      <th>LongURL</th>\n",
       "      <th>ShortURL</th>\n",
       "      <th>Symbol@</th>\n",
       "      <th>Redirecting//</th>\n",
       "      <th>PrefixSuffix-</th>\n",
       "      <th>SubDomains</th>\n",
       "      <th>HTTPS</th>\n",
       "      <th>DomainRegLen</th>\n",
       "      <th>...</th>\n",
       "      <th>UsingPopupWindow</th>\n",
       "      <th>IframeRedirection</th>\n",
       "      <th>AgeofDomain</th>\n",
       "      <th>DNSRecording</th>\n",
       "      <th>WebsiteTraffic</th>\n",
       "      <th>PageRank</th>\n",
       "      <th>GoogleIndex</th>\n",
       "      <th>LinksPointingToPage</th>\n",
       "      <th>StatsReport</th>\n",
       "      <th>class</th>\n",
       "    </tr>\n",
       "  </thead>\n",
       "  <tbody>\n",
       "    <tr>\n",
       "      <th>0</th>\n",
       "      <td>0</td>\n",
       "      <td>1</td>\n",
       "      <td>1</td>\n",
       "      <td>1</td>\n",
       "      <td>1</td>\n",
       "      <td>1</td>\n",
       "      <td>-1</td>\n",
       "      <td>0</td>\n",
       "      <td>1</td>\n",
       "      <td>-1</td>\n",
       "      <td>...</td>\n",
       "      <td>1</td>\n",
       "      <td>1</td>\n",
       "      <td>-1</td>\n",
       "      <td>-1</td>\n",
       "      <td>0</td>\n",
       "      <td>-1</td>\n",
       "      <td>1</td>\n",
       "      <td>1</td>\n",
       "      <td>1</td>\n",
       "      <td>-1</td>\n",
       "    </tr>\n",
       "    <tr>\n",
       "      <th>1</th>\n",
       "      <td>1</td>\n",
       "      <td>1</td>\n",
       "      <td>0</td>\n",
       "      <td>1</td>\n",
       "      <td>1</td>\n",
       "      <td>1</td>\n",
       "      <td>-1</td>\n",
       "      <td>-1</td>\n",
       "      <td>-1</td>\n",
       "      <td>-1</td>\n",
       "      <td>...</td>\n",
       "      <td>1</td>\n",
       "      <td>1</td>\n",
       "      <td>1</td>\n",
       "      <td>-1</td>\n",
       "      <td>1</td>\n",
       "      <td>-1</td>\n",
       "      <td>1</td>\n",
       "      <td>0</td>\n",
       "      <td>-1</td>\n",
       "      <td>-1</td>\n",
       "    </tr>\n",
       "    <tr>\n",
       "      <th>2</th>\n",
       "      <td>2</td>\n",
       "      <td>1</td>\n",
       "      <td>0</td>\n",
       "      <td>1</td>\n",
       "      <td>1</td>\n",
       "      <td>1</td>\n",
       "      <td>-1</td>\n",
       "      <td>-1</td>\n",
       "      <td>-1</td>\n",
       "      <td>1</td>\n",
       "      <td>...</td>\n",
       "      <td>1</td>\n",
       "      <td>1</td>\n",
       "      <td>-1</td>\n",
       "      <td>-1</td>\n",
       "      <td>1</td>\n",
       "      <td>-1</td>\n",
       "      <td>1</td>\n",
       "      <td>-1</td>\n",
       "      <td>1</td>\n",
       "      <td>-1</td>\n",
       "    </tr>\n",
       "    <tr>\n",
       "      <th>3</th>\n",
       "      <td>3</td>\n",
       "      <td>1</td>\n",
       "      <td>0</td>\n",
       "      <td>-1</td>\n",
       "      <td>1</td>\n",
       "      <td>1</td>\n",
       "      <td>-1</td>\n",
       "      <td>1</td>\n",
       "      <td>1</td>\n",
       "      <td>-1</td>\n",
       "      <td>...</td>\n",
       "      <td>-1</td>\n",
       "      <td>1</td>\n",
       "      <td>-1</td>\n",
       "      <td>-1</td>\n",
       "      <td>0</td>\n",
       "      <td>-1</td>\n",
       "      <td>1</td>\n",
       "      <td>1</td>\n",
       "      <td>1</td>\n",
       "      <td>1</td>\n",
       "    </tr>\n",
       "    <tr>\n",
       "      <th>4</th>\n",
       "      <td>4</td>\n",
       "      <td>-1</td>\n",
       "      <td>0</td>\n",
       "      <td>-1</td>\n",
       "      <td>1</td>\n",
       "      <td>-1</td>\n",
       "      <td>-1</td>\n",
       "      <td>1</td>\n",
       "      <td>1</td>\n",
       "      <td>-1</td>\n",
       "      <td>...</td>\n",
       "      <td>1</td>\n",
       "      <td>1</td>\n",
       "      <td>1</td>\n",
       "      <td>1</td>\n",
       "      <td>1</td>\n",
       "      <td>-1</td>\n",
       "      <td>1</td>\n",
       "      <td>-1</td>\n",
       "      <td>-1</td>\n",
       "      <td>1</td>\n",
       "    </tr>\n",
       "  </tbody>\n",
       "</table>\n",
       "<p>5 rows × 32 columns</p>\n",
       "</div>"
      ],
      "text/plain": [
       "   Index  UsingIP  LongURL  ShortURL  Symbol@  Redirecting//  PrefixSuffix-  \\\n",
       "0      0        1        1         1        1              1             -1   \n",
       "1      1        1        0         1        1              1             -1   \n",
       "2      2        1        0         1        1              1             -1   \n",
       "3      3        1        0        -1        1              1             -1   \n",
       "4      4       -1        0        -1        1             -1             -1   \n",
       "\n",
       "   SubDomains  HTTPS  DomainRegLen  ...  UsingPopupWindow  IframeRedirection  \\\n",
       "0           0      1            -1  ...                 1                  1   \n",
       "1          -1     -1            -1  ...                 1                  1   \n",
       "2          -1     -1             1  ...                 1                  1   \n",
       "3           1      1            -1  ...                -1                  1   \n",
       "4           1      1            -1  ...                 1                  1   \n",
       "\n",
       "   AgeofDomain  DNSRecording  WebsiteTraffic  PageRank  GoogleIndex  \\\n",
       "0           -1            -1               0        -1            1   \n",
       "1            1            -1               1        -1            1   \n",
       "2           -1            -1               1        -1            1   \n",
       "3           -1            -1               0        -1            1   \n",
       "4            1             1               1        -1            1   \n",
       "\n",
       "   LinksPointingToPage  StatsReport  class  \n",
       "0                    1            1     -1  \n",
       "1                    0           -1     -1  \n",
       "2                   -1            1     -1  \n",
       "3                    1            1      1  \n",
       "4                   -1           -1      1  \n",
       "\n",
       "[5 rows x 32 columns]"
      ]
     },
     "execution_count": 3,
     "metadata": {},
     "output_type": "execute_result"
    }
   ],
   "source": [
    "#Loading data into dataframe\n",
    "\n",
    "data = pd.read_csv(\"phishing.csv\")\n",
    "data.head()"
   ]
  },
  {
   "cell_type": "code",
   "execution_count": 4,
   "id": "0df0debc",
   "metadata": {},
   "outputs": [],
   "source": [
    "data = data.drop(['Index'],axis = 1)"
   ]
  },
  {
   "cell_type": "markdown",
   "id": "3eee8c08",
   "metadata": {},
   "source": [
    "80-20 split."
   ]
  },
  {
   "cell_type": "code",
   "execution_count": 5,
   "id": "f3d90a24",
   "metadata": {},
   "outputs": [],
   "source": [
    "# Splitting the dataset into dependant and independant fetature\n",
    "\n",
    "X = data.drop([\"class\"],axis =1)\n",
    "y = data[\"class\"]"
   ]
  },
  {
   "cell_type": "code",
   "execution_count": 6,
   "id": "9de941d7",
   "metadata": {},
   "outputs": [
    {
     "data": {
      "text/plain": [
       "((8843, 30), (8843,), (2211, 30), (2211,))"
      ]
     },
     "execution_count": 6,
     "metadata": {},
     "output_type": "execute_result"
    }
   ],
   "source": [
    "# Splitting the dataset into train and test sets: 80-20 split\n",
    "\n",
    "from sklearn.model_selection import train_test_split\n",
    "\n",
    "X_train, X_test, y_train, y_test = train_test_split(X, y, test_size = 0.2, random_state = 42)\n",
    "X_train.shape, y_train.shape, X_test.shape, y_test.shape"
   ]
  },
  {
   "cell_type": "code",
   "execution_count": 7,
   "id": "55ac1416",
   "metadata": {},
   "outputs": [],
   "source": [
    "# Creating holders to store the model performance results\n",
    "ML_Model = []\n",
    "accuracy = []\n",
    "f1_score = []\n",
    "recall = []\n",
    "precision = []\n",
    "\n",
    "#function to call for storing the results\n",
    "def storeResults(model, a,b,c,d):\n",
    "  ML_Model.append(model)\n",
    "  accuracy.append(round(a, 3))\n",
    "  f1_score.append(round(b, 3))\n",
    "  recall.append(round(c, 3))\n",
    "  precision.append(round(d, 3))"
   ]
  },
  {
   "cell_type": "markdown",
   "id": "a8724a53",
   "metadata": {},
   "source": [
    "Logistic Regression"
   ]
  },
  {
   "cell_type": "code",
   "execution_count": 8,
   "id": "1aa0632f",
   "metadata": {},
   "outputs": [
    {
     "data": {
      "text/plain": [
       "LogisticRegression()"
      ]
     },
     "execution_count": 8,
     "metadata": {},
     "output_type": "execute_result"
    }
   ],
   "source": [
    "# Linear regression model \n",
    "from sklearn.linear_model import LogisticRegression\n",
    "#from sklearn.pipeline import Pipeline\n",
    "\n",
    "# instantiate the model\n",
    "log = LogisticRegression()\n",
    "\n",
    "# fit the model \n",
    "log.fit(X_train,y_train)"
   ]
  },
  {
   "cell_type": "code",
   "execution_count": 9,
   "id": "66af98cc",
   "metadata": {},
   "outputs": [],
   "source": [
    "#predicting the target value from the model for the samples\n",
    "\n",
    "y_train_log = log.predict(X_train)\n",
    "y_test_log = log.predict(X_test)"
   ]
  },
  {
   "cell_type": "code",
   "execution_count": 10,
   "id": "bd4f1e81",
   "metadata": {},
   "outputs": [
    {
     "name": "stdout",
     "output_type": "stream",
     "text": [
      "Logistic Regression : Accuracy on training Data: 0.927\n",
      "Logistic Regression : Accuracy on test Data: 0.934\n",
      "\n",
      "Logistic Regression : f1_score on training Data: 0.935\n",
      "Logistic Regression : f1_score on test Data: 0.941\n",
      "\n",
      "Logistic Regression : Recall on training Data: 0.943\n",
      "Logistic Regression : Recall on test Data: 0.953\n",
      "\n",
      "Logistic Regression : precision on training Data: 0.927\n",
      "Logistic Regression : precision on test Data: 0.930\n"
     ]
    }
   ],
   "source": [
    "#computing the accuracy, f1_score, Recall, precision of the model performance\n",
    "\n",
    "acc_train_log = metrics.accuracy_score(y_train,y_train_log)\n",
    "acc_test_log = metrics.accuracy_score(y_test,y_test_log)\n",
    "print(\"Logistic Regression : Accuracy on training Data: {:.3f}\".format(acc_train_log))\n",
    "print(\"Logistic Regression : Accuracy on test Data: {:.3f}\".format(acc_test_log))\n",
    "print()\n",
    "\n",
    "f1_score_train_log = metrics.f1_score(y_train,y_train_log)\n",
    "f1_score_test_log = metrics.f1_score(y_test,y_test_log)\n",
    "print(\"Logistic Regression : f1_score on training Data: {:.3f}\".format(f1_score_train_log))\n",
    "print(\"Logistic Regression : f1_score on test Data: {:.3f}\".format(f1_score_test_log))\n",
    "print()\n",
    "\n",
    "recall_score_train_log = metrics.recall_score(y_train,y_train_log)\n",
    "recall_score_test_log = metrics.recall_score(y_test,y_test_log)\n",
    "print(\"Logistic Regression : Recall on training Data: {:.3f}\".format(recall_score_train_log))\n",
    "print(\"Logistic Regression : Recall on test Data: {:.3f}\".format(recall_score_test_log))\n",
    "print()\n",
    "\n",
    "precision_score_train_log = metrics.precision_score(y_train,y_train_log)\n",
    "precision_score_test_log = metrics.precision_score(y_test,y_test_log)\n",
    "print(\"Logistic Regression : precision on training Data: {:.3f}\".format(precision_score_train_log))\n",
    "print(\"Logistic Regression : precision on test Data: {:.3f}\".format(precision_score_test_log))"
   ]
  },
  {
   "cell_type": "code",
   "execution_count": 11,
   "id": "314ae927",
   "metadata": {},
   "outputs": [
    {
     "name": "stdout",
     "output_type": "stream",
     "text": [
      "              precision    recall  f1-score   support\n",
      "\n",
      "          -1       0.94      0.91      0.92       976\n",
      "           1       0.93      0.95      0.94      1235\n",
      "\n",
      "    accuracy                           0.93      2211\n",
      "   macro avg       0.93      0.93      0.93      2211\n",
      "weighted avg       0.93      0.93      0.93      2211\n",
      "\n"
     ]
    }
   ],
   "source": [
    "#computing the classification report of the model\n",
    "\n",
    "print(metrics.classification_report(y_test, y_test_log))"
   ]
  },
  {
   "cell_type": "code",
   "execution_count": 12,
   "id": "e557df04",
   "metadata": {},
   "outputs": [],
   "source": [
    "#storing the results. The below mentioned order of parameter passing is important.\n",
    "\n",
    "storeResults('Logistic Regression',acc_test_log,f1_score_test_log,\n",
    "             recall_score_train_log,precision_score_train_log)"
   ]
  },
  {
   "cell_type": "markdown",
   "id": "94a3a5bf",
   "metadata": {},
   "source": [
    "K-Nearest Neighbors : Classifier"
   ]
  },
  {
   "cell_type": "code",
   "execution_count": 13,
   "id": "fcdb78be",
   "metadata": {},
   "outputs": [
    {
     "data": {
      "text/plain": [
       "KNeighborsClassifier(n_neighbors=1)"
      ]
     },
     "execution_count": 13,
     "metadata": {},
     "output_type": "execute_result"
    }
   ],
   "source": [
    "# K-Nearest Neighbors Classifier model\n",
    "from sklearn.neighbors import KNeighborsClassifier\n",
    "\n",
    "# instantiate the model\n",
    "knn = KNeighborsClassifier(n_neighbors=1)\n",
    "\n",
    "# fit the model \n",
    "knn.fit(X_train,y_train)"
   ]
  },
  {
   "cell_type": "code",
   "execution_count": 14,
   "id": "269c61e7",
   "metadata": {},
   "outputs": [],
   "source": [
    "#predicting the target value from the model for the samples\n",
    "y_train_knn = knn.predict(X_train)\n",
    "y_test_knn = knn.predict(X_test)"
   ]
  },
  {
   "cell_type": "code",
   "execution_count": 15,
   "id": "77d9c3bf",
   "metadata": {},
   "outputs": [
    {
     "name": "stdout",
     "output_type": "stream",
     "text": [
      "K-Nearest Neighbors : Accuracy on training Data: 0.989\n",
      "K-Nearest Neighbors : Accuracy on test Data: 0.956\n",
      "\n",
      "K-Nearest Neighbors : f1_score on training Data: 0.990\n",
      "K-Nearest Neighbors : f1_score on test Data: 0.961\n",
      "\n",
      "K-Nearest Neighborsn : Recall on training Data: 0.991\n",
      "Logistic Regression : Recall on test Data: 0.962\n",
      "\n",
      "K-Nearest Neighbors : precision on training Data: 0.989\n",
      "K-Nearest Neighbors : precision on test Data: 0.960\n"
     ]
    }
   ],
   "source": [
    "#computing the accuracy,f1_score,Recall,precision of the model performance\n",
    "\n",
    "acc_train_knn = metrics.accuracy_score(y_train,y_train_knn)\n",
    "acc_test_knn = metrics.accuracy_score(y_test,y_test_knn)\n",
    "print(\"K-Nearest Neighbors : Accuracy on training Data: {:.3f}\".format(acc_train_knn))\n",
    "print(\"K-Nearest Neighbors : Accuracy on test Data: {:.3f}\".format(acc_test_knn))\n",
    "print()\n",
    "\n",
    "f1_score_train_knn = metrics.f1_score(y_train,y_train_knn)\n",
    "f1_score_test_knn = metrics.f1_score(y_test,y_test_knn)\n",
    "print(\"K-Nearest Neighbors : f1_score on training Data: {:.3f}\".format(f1_score_train_knn))\n",
    "print(\"K-Nearest Neighbors : f1_score on test Data: {:.3f}\".format(f1_score_test_knn))\n",
    "print()\n",
    "\n",
    "recall_score_train_knn = metrics.recall_score(y_train,y_train_knn)\n",
    "recall_score_test_knn = metrics.recall_score(y_test,y_test_knn)\n",
    "print(\"K-Nearest Neighborsn : Recall on training Data: {:.3f}\".format(recall_score_train_knn))\n",
    "print(\"Logistic Regression : Recall on test Data: {:.3f}\".format(recall_score_test_knn))\n",
    "print()\n",
    "\n",
    "precision_score_train_knn = metrics.precision_score(y_train,y_train_knn)\n",
    "precision_score_test_knn = metrics.precision_score(y_test,y_test_knn)\n",
    "print(\"K-Nearest Neighbors : precision on training Data: {:.3f}\".format(precision_score_train_knn))\n",
    "print(\"K-Nearest Neighbors : precision on test Data: {:.3f}\".format(precision_score_test_knn))"
   ]
  },
  {
   "cell_type": "code",
   "execution_count": 16,
   "id": "f6a6658f",
   "metadata": {},
   "outputs": [
    {
     "name": "stdout",
     "output_type": "stream",
     "text": [
      "              precision    recall  f1-score   support\n",
      "\n",
      "          -1       0.95      0.95      0.95       976\n",
      "           1       0.96      0.96      0.96      1235\n",
      "\n",
      "    accuracy                           0.96      2211\n",
      "   macro avg       0.96      0.96      0.96      2211\n",
      "weighted avg       0.96      0.96      0.96      2211\n",
      "\n"
     ]
    }
   ],
   "source": [
    "#computing the classification report of the model\n",
    "\n",
    "print(metrics.classification_report(y_test, y_test_knn))"
   ]
  },
  {
   "cell_type": "code",
   "execution_count": 17,
   "id": "19e5bf0c",
   "metadata": {},
   "outputs": [],
   "source": [
    "#storing the results. The below mentioned order of parameter passing is important.\n",
    "\n",
    "storeResults('K-Nearest Neighbors',acc_test_knn,f1_score_test_knn,\n",
    "             recall_score_train_knn,precision_score_train_knn)"
   ]
  },
  {
   "cell_type": "markdown",
   "id": "b8bc8b53",
   "metadata": {},
   "source": [
    "Support Vector Machine : Classifier"
   ]
  },
  {
   "cell_type": "code",
   "execution_count": 18,
   "id": "be3cb194",
   "metadata": {},
   "outputs": [
    {
     "data": {
      "text/plain": [
       "GridSearchCV(estimator=SVC(),\n",
       "             param_grid={'gamma': [0.1], 'kernel': ['rbf', 'linear']})"
      ]
     },
     "execution_count": 18,
     "metadata": {},
     "output_type": "execute_result"
    }
   ],
   "source": [
    "# Support Vector Classifier model \n",
    "from sklearn.svm import SVC\n",
    "from sklearn.model_selection import GridSearchCV\n",
    "\n",
    "# defining parameter range\n",
    "param_grid = {'gamma': [0.1],'kernel': ['rbf','linear']}\n",
    "\n",
    "svc = GridSearchCV(SVC(), param_grid)\n",
    "\n",
    "# fitting the model for grid search\n",
    "svc.fit(X_train, y_train)\n"
   ]
  },
  {
   "cell_type": "code",
   "execution_count": 19,
   "id": "2b25eef4",
   "metadata": {},
   "outputs": [],
   "source": [
    "#predicting the target value from the model for the samples\n",
    "y_train_svc = svc.predict(X_train)\n",
    "y_test_svc = svc.predict(X_test)"
   ]
  },
  {
   "cell_type": "code",
   "execution_count": 20,
   "id": "079d4b39",
   "metadata": {},
   "outputs": [
    {
     "name": "stdout",
     "output_type": "stream",
     "text": [
      "Support Vector Machine : Accuracy on training Data: 0.969\n",
      "Support Vector Machine : Accuracy on test Data: 0.964\n",
      "\n",
      "Support Vector Machine : f1_score on training Data: 0.973\n",
      "Support Vector Machine : f1_score on test Data: 0.968\n",
      "\n",
      "Support Vector Machine : Recall on training Data: 0.980\n",
      "Support Vector Machine : Recall on test Data: 0.980\n",
      "\n",
      "Support Vector Machine : precision on training Data: 0.965\n",
      "Support Vector Machine : precision on test Data: 0.957\n"
     ]
    }
   ],
   "source": [
    "#computing the accuracy, f1_score, Recall, precision of the model performance\n",
    "\n",
    "acc_train_svc = metrics.accuracy_score(y_train,y_train_svc)\n",
    "acc_test_svc = metrics.accuracy_score(y_test,y_test_svc)\n",
    "print(\"Support Vector Machine : Accuracy on training Data: {:.3f}\".format(acc_train_svc))\n",
    "print(\"Support Vector Machine : Accuracy on test Data: {:.3f}\".format(acc_test_svc))\n",
    "print()\n",
    "\n",
    "f1_score_train_svc = metrics.f1_score(y_train,y_train_svc)\n",
    "f1_score_test_svc = metrics.f1_score(y_test,y_test_svc)\n",
    "print(\"Support Vector Machine : f1_score on training Data: {:.3f}\".format(f1_score_train_svc))\n",
    "print(\"Support Vector Machine : f1_score on test Data: {:.3f}\".format(f1_score_test_svc))\n",
    "print()\n",
    "\n",
    "recall_score_train_svc = metrics.recall_score(y_train,y_train_svc)\n",
    "recall_score_test_svc = metrics.recall_score(y_test,y_test_svc)\n",
    "print(\"Support Vector Machine : Recall on training Data: {:.3f}\".format(recall_score_train_svc))\n",
    "print(\"Support Vector Machine : Recall on test Data: {:.3f}\".format(recall_score_test_svc))\n",
    "print()\n",
    "\n",
    "precision_score_train_svc = metrics.precision_score(y_train,y_train_svc)\n",
    "precision_score_test_svc = metrics.precision_score(y_test,y_test_svc)\n",
    "print(\"Support Vector Machine : precision on training Data: {:.3f}\".format(precision_score_train_svc))\n",
    "print(\"Support Vector Machine : precision on test Data: {:.3f}\".format(precision_score_test_svc))"
   ]
  },
  {
   "cell_type": "code",
   "execution_count": 21,
   "id": "b80c577b",
   "metadata": {},
   "outputs": [
    {
     "name": "stdout",
     "output_type": "stream",
     "text": [
      "              precision    recall  f1-score   support\n",
      "\n",
      "          -1       0.97      0.94      0.96       976\n",
      "           1       0.96      0.98      0.97      1235\n",
      "\n",
      "    accuracy                           0.96      2211\n",
      "   macro avg       0.97      0.96      0.96      2211\n",
      "weighted avg       0.96      0.96      0.96      2211\n",
      "\n"
     ]
    }
   ],
   "source": [
    "#computing the classification report of the model\n",
    "\n",
    "print(metrics.classification_report(y_test, y_test_svc))"
   ]
  },
  {
   "cell_type": "code",
   "execution_count": 22,
   "id": "b82e2f70",
   "metadata": {},
   "outputs": [],
   "source": [
    "#storing the results. The below mentioned order of parameter passing is important.\n",
    "\n",
    "storeResults('Support Vector Machine',acc_test_svc,f1_score_test_svc,\n",
    "             recall_score_train_svc,precision_score_train_svc)"
   ]
  },
  {
   "cell_type": "markdown",
   "id": "8ba22f40",
   "metadata": {},
   "source": [
    "Naive Bayes : Classifier"
   ]
  },
  {
   "cell_type": "code",
   "execution_count": 23,
   "id": "69469f59",
   "metadata": {},
   "outputs": [
    {
     "data": {
      "text/plain": [
       "GaussianNB()"
      ]
     },
     "execution_count": 23,
     "metadata": {},
     "output_type": "execute_result"
    }
   ],
   "source": [
    "# Naive Bayes Classifier Model\n",
    "from sklearn.naive_bayes import GaussianNB\n",
    "from sklearn.pipeline import Pipeline\n",
    "\n",
    "# instantiate the model\n",
    "nb=  GaussianNB()\n",
    "\n",
    "# fit the model \n",
    "nb.fit(X_train,y_train)"
   ]
  },
  {
   "cell_type": "code",
   "execution_count": 24,
   "id": "d5af1028",
   "metadata": {},
   "outputs": [],
   "source": [
    "#predicting the target value from the model for the samples\n",
    "y_train_nb = nb.predict(X_train)\n",
    "y_test_nb = nb.predict(X_test)"
   ]
  },
  {
   "cell_type": "code",
   "execution_count": 25,
   "id": "63968c7a",
   "metadata": {},
   "outputs": [
    {
     "name": "stdout",
     "output_type": "stream",
     "text": [
      "Naive Bayes Classifier : Accuracy on training Data: 0.605\n",
      "Naive Bayes Classifier : Accuracy on test Data: 0.605\n",
      "\n",
      "Naive Bayes Classifier : f1_score on training Data: 0.451\n",
      "Naive Bayes Classifier : f1_score on test Data: 0.454\n",
      "\n",
      "Naive Bayes Classifier : Recall on training Data: 0.292\n",
      "Naive Bayes Classifier : Recall on test Data: 0.294\n",
      "\n",
      "Naive Bayes Classifier : precision on training Data: 0.997\n",
      "Naive Bayes Classifier : precision on test Data: 0.995\n"
     ]
    }
   ],
   "source": [
    "#computing the accuracy, f1_score, Recall, precision of the model performance\n",
    "\n",
    "acc_train_nb = metrics.accuracy_score(y_train,y_train_nb)\n",
    "acc_test_nb = metrics.accuracy_score(y_test,y_test_nb)\n",
    "print(\"Naive Bayes Classifier : Accuracy on training Data: {:.3f}\".format(acc_train_nb))\n",
    "print(\"Naive Bayes Classifier : Accuracy on test Data: {:.3f}\".format(acc_test_nb))\n",
    "print()\n",
    "\n",
    "f1_score_train_nb = metrics.f1_score(y_train,y_train_nb)\n",
    "f1_score_test_nb = metrics.f1_score(y_test,y_test_nb)\n",
    "print(\"Naive Bayes Classifier : f1_score on training Data: {:.3f}\".format(f1_score_train_nb))\n",
    "print(\"Naive Bayes Classifier : f1_score on test Data: {:.3f}\".format(f1_score_test_nb))\n",
    "print()\n",
    "\n",
    "recall_score_train_nb = metrics.recall_score(y_train,y_train_nb)\n",
    "recall_score_test_nb = metrics.recall_score(y_test,y_test_nb)\n",
    "print(\"Naive Bayes Classifier : Recall on training Data: {:.3f}\".format(recall_score_train_nb))\n",
    "print(\"Naive Bayes Classifier : Recall on test Data: {:.3f}\".format(recall_score_test_nb))\n",
    "print()\n",
    "\n",
    "precision_score_train_nb = metrics.precision_score(y_train,y_train_nb)\n",
    "precision_score_test_nb = metrics.precision_score(y_test,y_test_nb)\n",
    "print(\"Naive Bayes Classifier : precision on training Data: {:.3f}\".format(precision_score_train_nb))\n",
    "print(\"Naive Bayes Classifier : precision on test Data: {:.3f}\".format(precision_score_test_nb))"
   ]
  },
  {
   "cell_type": "code",
   "execution_count": 26,
   "id": "cb7d8f0b",
   "metadata": {},
   "outputs": [
    {
     "name": "stdout",
     "output_type": "stream",
     "text": [
      "              precision    recall  f1-score   support\n",
      "\n",
      "          -1       0.97      0.94      0.96       976\n",
      "           1       0.96      0.98      0.97      1235\n",
      "\n",
      "    accuracy                           0.96      2211\n",
      "   macro avg       0.97      0.96      0.96      2211\n",
      "weighted avg       0.96      0.96      0.96      2211\n",
      "\n"
     ]
    }
   ],
   "source": [
    "#computing the classification report of the model\n",
    "\n",
    "print(metrics.classification_report(y_test, y_test_svc))"
   ]
  },
  {
   "cell_type": "code",
   "execution_count": 27,
   "id": "51080f01",
   "metadata": {},
   "outputs": [],
   "source": [
    "#storing the results. The below mentioned order of parameter passing is important.\n",
    "\n",
    "storeResults('Naive Bayes Classifier',acc_test_nb,f1_score_test_nb,\n",
    "             recall_score_train_nb,precision_score_train_nb)"
   ]
  },
  {
   "cell_type": "markdown",
   "id": "bffea1bb",
   "metadata": {},
   "source": [
    " Decision Trees : Classifier"
   ]
  },
  {
   "cell_type": "code",
   "execution_count": 28,
   "id": "31379c27",
   "metadata": {},
   "outputs": [
    {
     "data": {
      "text/plain": [
       "DecisionTreeClassifier(max_depth=30)"
      ]
     },
     "execution_count": 28,
     "metadata": {},
     "output_type": "execute_result"
    }
   ],
   "source": [
    "# Decision Tree Classifier model \n",
    "from sklearn.tree import DecisionTreeClassifier\n",
    "\n",
    "# instantiate the model \n",
    "tree = DecisionTreeClassifier(max_depth=30)\n",
    "\n",
    "# fit the model \n",
    "tree.fit(X_train, y_train)"
   ]
  },
  {
   "cell_type": "code",
   "execution_count": 29,
   "id": "6c19c3ec",
   "metadata": {},
   "outputs": [],
   "source": [
    "#predicting the target value from the model for the samples\n",
    "\n",
    "y_train_tree = tree.predict(X_train)\n",
    "y_test_tree = tree.predict(X_test)"
   ]
  },
  {
   "cell_type": "code",
   "execution_count": 30,
   "id": "b577d598",
   "metadata": {},
   "outputs": [
    {
     "name": "stdout",
     "output_type": "stream",
     "text": [
      "Decision Tree : Accuracy on training Data: 0.991\n",
      "Decision Tree : Accuracy on test Data: 0.960\n",
      "\n",
      "Decision Tree : f1_score on training Data: 0.992\n",
      "Decision Tree : f1_score on test Data: 0.964\n",
      "\n",
      "Decision Tree : Recall on training Data: 0.991\n",
      "Decision Tree : Recall on test Data: 0.963\n",
      "\n",
      "Decision Tree : precision on training Data: 0.993\n",
      "Decision Tree : precision on test Data: 0.965\n"
     ]
    }
   ],
   "source": [
    "#computing the accuracy, f1_score, Recall, precision of the model performance\n",
    "\n",
    "acc_train_tree = metrics.accuracy_score(y_train,y_train_tree)\n",
    "acc_test_tree = metrics.accuracy_score(y_test,y_test_tree)\n",
    "print(\"Decision Tree : Accuracy on training Data: {:.3f}\".format(acc_train_tree))\n",
    "print(\"Decision Tree : Accuracy on test Data: {:.3f}\".format(acc_test_tree))\n",
    "print()\n",
    "\n",
    "f1_score_train_tree = metrics.f1_score(y_train,y_train_tree)\n",
    "f1_score_test_tree = metrics.f1_score(y_test,y_test_tree)\n",
    "print(\"Decision Tree : f1_score on training Data: {:.3f}\".format(f1_score_train_tree))\n",
    "print(\"Decision Tree : f1_score on test Data: {:.3f}\".format(f1_score_test_tree))\n",
    "print()\n",
    "\n",
    "recall_score_train_tree = metrics.recall_score(y_train,y_train_tree)\n",
    "recall_score_test_tree = metrics.recall_score(y_test,y_test_tree)\n",
    "print(\"Decision Tree : Recall on training Data: {:.3f}\".format(recall_score_train_tree))\n",
    "print(\"Decision Tree : Recall on test Data: {:.3f}\".format(recall_score_test_tree))\n",
    "print()\n",
    "\n",
    "precision_score_train_tree = metrics.precision_score(y_train,y_train_tree)\n",
    "precision_score_test_tree = metrics.precision_score(y_test,y_test_tree)\n",
    "print(\"Decision Tree : precision on training Data: {:.3f}\".format(precision_score_train_tree))\n",
    "print(\"Decision Tree : precision on test Data: {:.3f}\".format(precision_score_test_tree))"
   ]
  },
  {
   "cell_type": "code",
   "execution_count": 31,
   "id": "87bcb8b6",
   "metadata": {},
   "outputs": [
    {
     "name": "stdout",
     "output_type": "stream",
     "text": [
      "              precision    recall  f1-score   support\n",
      "\n",
      "          -1       0.95      0.96      0.95       976\n",
      "           1       0.97      0.96      0.96      1235\n",
      "\n",
      "    accuracy                           0.96      2211\n",
      "   macro avg       0.96      0.96      0.96      2211\n",
      "weighted avg       0.96      0.96      0.96      2211\n",
      "\n"
     ]
    }
   ],
   "source": [
    "#computing the classification report of the model\n",
    "\n",
    "print(metrics.classification_report(y_test, y_test_tree))"
   ]
  },
  {
   "cell_type": "code",
   "execution_count": 32,
   "id": "0f3b12b8",
   "metadata": {},
   "outputs": [],
   "source": [
    "#storing the results. The below mentioned order of parameter passing is important.\n",
    "\n",
    "storeResults('Decision Tree',acc_test_tree,f1_score_test_tree,\n",
    "             recall_score_train_tree,precision_score_train_tree)"
   ]
  },
  {
   "cell_type": "markdown",
   "id": "02637ba8",
   "metadata": {},
   "source": [
    "Random Forest : Classifier"
   ]
  },
  {
   "cell_type": "code",
   "execution_count": 33,
   "id": "49272c25",
   "metadata": {},
   "outputs": [
    {
     "data": {
      "text/plain": [
       "RandomForestClassifier(n_estimators=10)"
      ]
     },
     "execution_count": 33,
     "metadata": {},
     "output_type": "execute_result"
    }
   ],
   "source": [
    "# Random Forest Classifier Model\n",
    "from sklearn.ensemble import RandomForestClassifier\n",
    "\n",
    "# instantiate the model\n",
    "forest = RandomForestClassifier(n_estimators=10)\n",
    "\n",
    "# fit the model \n",
    "forest.fit(X_train,y_train)"
   ]
  },
  {
   "cell_type": "code",
   "execution_count": 34,
   "id": "82c1f8b7",
   "metadata": {},
   "outputs": [],
   "source": [
    "#predicting the target value from the model for the samples\n",
    "y_train_forest = forest.predict(X_train)\n",
    "y_test_forest = forest.predict(X_test)"
   ]
  },
  {
   "cell_type": "code",
   "execution_count": 35,
   "id": "a41bd7f0",
   "metadata": {},
   "outputs": [
    {
     "name": "stdout",
     "output_type": "stream",
     "text": [
      "Random Forest : Accuracy on training Data: 0.991\n",
      "Random Forest : Accuracy on test Data: 0.968\n",
      "\n",
      "Random Forest : f1_score on training Data: 0.992\n",
      "Random Forest : f1_score on test Data: 0.971\n",
      "\n",
      "Random Forest : Recall on training Data: 0.993\n",
      "Random Forest : Recall on test Data: 0.975\n",
      "\n",
      "Random Forest : precision on training Data: 0.990\n",
      "Random Forest : precision on test Data: 0.965\n"
     ]
    }
   ],
   "source": [
    "#computing the accuracy, f1_score, Recall, precision of the model performance\n",
    "\n",
    "acc_train_forest = metrics.accuracy_score(y_train,y_train_forest)\n",
    "acc_test_forest = metrics.accuracy_score(y_test,y_test_forest)\n",
    "print(\"Random Forest : Accuracy on training Data: {:.3f}\".format(acc_train_forest))\n",
    "print(\"Random Forest : Accuracy on test Data: {:.3f}\".format(acc_test_forest))\n",
    "print()\n",
    "\n",
    "f1_score_train_forest = metrics.f1_score(y_train,y_train_forest)\n",
    "f1_score_test_forest = metrics.f1_score(y_test,y_test_forest)\n",
    "print(\"Random Forest : f1_score on training Data: {:.3f}\".format(f1_score_train_forest))\n",
    "print(\"Random Forest : f1_score on test Data: {:.3f}\".format(f1_score_test_forest))\n",
    "print()\n",
    "\n",
    "recall_score_train_forest = metrics.recall_score(y_train,y_train_forest)\n",
    "recall_score_test_forest = metrics.recall_score(y_test,y_test_forest)\n",
    "print(\"Random Forest : Recall on training Data: {:.3f}\".format(recall_score_train_forest))\n",
    "print(\"Random Forest : Recall on test Data: {:.3f}\".format(recall_score_test_forest))\n",
    "print()\n",
    "\n",
    "precision_score_train_forest = metrics.precision_score(y_train,y_train_forest)\n",
    "precision_score_test_forest = metrics.precision_score(y_test,y_test_tree)\n",
    "print(\"Random Forest : precision on training Data: {:.3f}\".format(precision_score_train_forest))\n",
    "print(\"Random Forest : precision on test Data: {:.3f}\".format(precision_score_test_forest))"
   ]
  },
  {
   "cell_type": "code",
   "execution_count": 36,
   "id": "fb33464b",
   "metadata": {},
   "outputs": [
    {
     "name": "stdout",
     "output_type": "stream",
     "text": [
      "              precision    recall  f1-score   support\n",
      "\n",
      "          -1       0.97      0.96      0.96       976\n",
      "           1       0.97      0.97      0.97      1235\n",
      "\n",
      "    accuracy                           0.97      2211\n",
      "   macro avg       0.97      0.97      0.97      2211\n",
      "weighted avg       0.97      0.97      0.97      2211\n",
      "\n"
     ]
    }
   ],
   "source": [
    "#computing the classification report of the model\n",
    "\n",
    "print(metrics.classification_report(y_test, y_test_forest))"
   ]
  },
  {
   "cell_type": "code",
   "execution_count": 37,
   "id": "310a4d15",
   "metadata": {},
   "outputs": [],
   "source": [
    "#storing the results. The below mentioned order of parameter passing is important.\n",
    "\n",
    "storeResults('Random Forest',acc_test_forest,f1_score_test_forest,\n",
    "             recall_score_train_forest,precision_score_train_forest)"
   ]
  },
  {
   "cell_type": "markdown",
   "id": "08ba9a1a",
   "metadata": {},
   "source": [
    "Gradient Boosting Classifier"
   ]
  },
  {
   "cell_type": "code",
   "execution_count": 38,
   "id": "46672600",
   "metadata": {},
   "outputs": [
    {
     "data": {
      "text/plain": [
       "GradientBoostingClassifier(learning_rate=0.7, max_depth=4)"
      ]
     },
     "execution_count": 38,
     "metadata": {},
     "output_type": "execute_result"
    }
   ],
   "source": [
    "# Gradient Boosting Classifier Model\n",
    "from sklearn.ensemble import GradientBoostingClassifier\n",
    "\n",
    "# instantiate the model\n",
    "gbc = GradientBoostingClassifier(max_depth=4,learning_rate=0.7)\n",
    "\n",
    "# fit the model \n",
    "gbc.fit(X_train,y_train)"
   ]
  },
  {
   "cell_type": "code",
   "execution_count": 39,
   "id": "1abd4a9e",
   "metadata": {},
   "outputs": [],
   "source": [
    "#predicting the target value from the model for the samples\n",
    "y_train_gbc = gbc.predict(X_train)\n",
    "y_test_gbc = gbc.predict(X_test)"
   ]
  },
  {
   "cell_type": "code",
   "execution_count": 40,
   "id": "4c8ea93d",
   "metadata": {},
   "outputs": [
    {
     "name": "stdout",
     "output_type": "stream",
     "text": [
      "Gradient Boosting Classifier : Accuracy on training Data: 0.989\n",
      "Gradient Boosting Classifier : Accuracy on test Data: 0.974\n",
      "\n",
      "Gradient Boosting Classifier : f1_score on training Data: 0.990\n",
      "Gradient Boosting Classifier : f1_score on test Data: 0.977\n",
      "\n",
      "Gradient Boosting Classifier : Recall on training Data: 0.994\n",
      "Gradient Boosting Classifier : Recall on test Data: 0.989\n",
      "\n",
      "Gradient Boosting Classifier : precision on training Data: 0.986\n",
      "Gradient Boosting Classifier : precision on test Data: 0.966\n"
     ]
    }
   ],
   "source": [
    "#computing the accuracy, f1_score, Recall, precision of the model performance\n",
    "\n",
    "acc_train_gbc = metrics.accuracy_score(y_train,y_train_gbc)\n",
    "acc_test_gbc = metrics.accuracy_score(y_test,y_test_gbc)\n",
    "print(\"Gradient Boosting Classifier : Accuracy on training Data: {:.3f}\".format(acc_train_gbc))\n",
    "print(\"Gradient Boosting Classifier : Accuracy on test Data: {:.3f}\".format(acc_test_gbc))\n",
    "print()\n",
    "\n",
    "f1_score_train_gbc = metrics.f1_score(y_train,y_train_gbc)\n",
    "f1_score_test_gbc = metrics.f1_score(y_test,y_test_gbc)\n",
    "print(\"Gradient Boosting Classifier : f1_score on training Data: {:.3f}\".format(f1_score_train_gbc))\n",
    "print(\"Gradient Boosting Classifier : f1_score on test Data: {:.3f}\".format(f1_score_test_gbc))\n",
    "print()\n",
    "\n",
    "recall_score_train_gbc = metrics.recall_score(y_train,y_train_gbc)\n",
    "recall_score_test_gbc =  metrics.recall_score(y_test,y_test_gbc)\n",
    "print(\"Gradient Boosting Classifier : Recall on training Data: {:.3f}\".format(recall_score_train_gbc))\n",
    "print(\"Gradient Boosting Classifier : Recall on test Data: {:.3f}\".format(recall_score_test_gbc))\n",
    "print()\n",
    "\n",
    "precision_score_train_gbc = metrics.precision_score(y_train,y_train_gbc)\n",
    "precision_score_test_gbc = metrics.precision_score(y_test,y_test_gbc)\n",
    "print(\"Gradient Boosting Classifier : precision on training Data: {:.3f}\".format(precision_score_train_gbc))\n",
    "print(\"Gradient Boosting Classifier : precision on test Data: {:.3f}\".format(precision_score_test_gbc))"
   ]
  },
  {
   "cell_type": "code",
   "execution_count": 41,
   "id": "1f7959d8",
   "metadata": {},
   "outputs": [
    {
     "name": "stdout",
     "output_type": "stream",
     "text": [
      "              precision    recall  f1-score   support\n",
      "\n",
      "          -1       0.99      0.96      0.97       976\n",
      "           1       0.97      0.99      0.98      1235\n",
      "\n",
      "    accuracy                           0.97      2211\n",
      "   macro avg       0.98      0.97      0.97      2211\n",
      "weighted avg       0.97      0.97      0.97      2211\n",
      "\n"
     ]
    }
   ],
   "source": [
    "#computing the classification report of the model\n",
    "\n",
    "print(metrics.classification_report(y_test, y_test_gbc))"
   ]
  },
  {
   "cell_type": "code",
   "execution_count": 42,
   "id": "7e310444",
   "metadata": {},
   "outputs": [
    {
     "data": {
      "image/png": "[encoded data removed]",
      "text/plain": [
       "<Figure size 432x288 with 1 Axes>"
      ]
     },
     "metadata": {
      "needs_background": "light"
     },
     "output_type": "display_data"
    }
   ],
   "source": [
    "training_accuracy = []\n",
    "test_accuracy = []\n",
    "# try learning_rate from 0.1 to 0.9\n",
    "depth = range(1,10)\n",
    "for n in depth:\n",
    "    forest_test =  GradientBoostingClassifier(learning_rate = n*0.1)\n",
    "\n",
    "    forest_test.fit(X_train, y_train)\n",
    "    # record training set accuracy\n",
    "    training_accuracy.append(forest_test.score(X_train, y_train))\n",
    "    # record generalization accuracy\n",
    "    test_accuracy.append(forest_test.score(X_test, y_test))\n",
    "    \n",
    "\n",
    "plt.figure(figsize=None)\n",
    "plt.plot(depth, training_accuracy, label=\"training accuracy\")\n",
    "plt.plot(depth, test_accuracy, label=\"test accuracy\")\n",
    "plt.ylabel(\"Accuracy\")  \n",
    "plt.xlabel(\"learning_rate\")\n",
    "plt.legend();"
   ]
  },
  {
   "cell_type": "code",
   "execution_count": 43,
   "id": "2c07912f",
   "metadata": {},
   "outputs": [
    {
     "data": {
      "image/png": "[encoded data removed]",
      "text/plain": [
       "<Figure size 432x288 with 1 Axes>"
      ]
     },
     "metadata": {
      "needs_background": "light"
     },
     "output_type": "display_data"
    }
   ],
   "source": [
    "training_accuracy = []\n",
    "test_accuracy = []\n",
    "depth = range(1,10,1)\n",
    "for n in depth:\n",
    "    forest_test =  GradientBoostingClassifier(max_depth=n,learning_rate = 0.7)\n",
    "\n",
    "    forest_test.fit(X_train, y_train)\n",
    "    # record training set accuracy\n",
    "    training_accuracy.append(forest_test.score(X_train, y_train))\n",
    "    # record generalization accuracy\n",
    "    test_accuracy.append(forest_test.score(X_test, y_test))\n",
    "    \n",
    "\n",
    "\n",
    "plt.figure(figsize=None)\n",
    "plt.plot(depth, training_accuracy, label=\"training accuracy\")\n",
    "plt.plot(depth, test_accuracy, label=\"test accuracy\")\n",
    "plt.ylabel(\"Accuracy\")  \n",
    "plt.xlabel(\"max_depth\")\n",
    "plt.legend();"
   ]
  },
  {
   "cell_type": "code",
   "execution_count": 44,
   "id": "660fe8b1",
   "metadata": {},
   "outputs": [],
   "source": [
    "#storing the results. The below mentioned order of parameter passing is important.\n",
    "\n",
    "storeResults('Gradient Boosting Classifier',acc_test_gbc,f1_score_test_gbc,\n",
    "             recall_score_train_gbc,precision_score_train_gbc)"
   ]
  },
  {
   "cell_type": "markdown",
   "id": "c6820aa6",
   "metadata": {},
   "source": [
    "CatBoost Classifier"
   ]
  },
  {
   "cell_type": "code",
   "execution_count": 54,
   "id": "387e3c57",
   "metadata": {},
   "outputs": [
    {
     "name": "stdout",
     "output_type": "stream",
     "text": [
      "0:\tlearn: 0.5487232\ttotal: 151ms\tremaining: 2m 31s\n",
      "1:\tlearn: 0.4349357\ttotal: 156ms\tremaining: 1m 17s\n",
      "2:\tlearn: 0.3609236\ttotal: 161ms\tremaining: 53.4s\n",
      "3:\tlearn: 0.3050829\ttotal: 165ms\tremaining: 41.1s\n",
      "4:\tlearn: 0.2766620\ttotal: 170ms\tremaining: 33.8s\n",
      "5:\tlearn: 0.2475476\ttotal: 174ms\tremaining: 28.9s\n",
      "6:\tlearn: 0.2286637\ttotal: 179ms\tremaining: 25.4s\n",
      "7:\tlearn: 0.2138754\ttotal: 184ms\tremaining: 22.8s\n",
      "8:\tlearn: 0.2013643\ttotal: 189ms\tremaining: 20.8s\n",
      "9:\tlearn: 0.1896378\ttotal: 193ms\tremaining: 19.1s\n",
      "10:\tlearn: 0.1819539\ttotal: 198ms\tremaining: 17.8s\n",
      "11:\tlearn: 0.1767867\ttotal: 202ms\tremaining: 16.7s\n",
      "12:\tlearn: 0.1727735\ttotal: 207ms\tremaining: 15.7s\n",
      "13:\tlearn: 0.1682578\ttotal: 212ms\tremaining: 14.9s\n",
      "14:\tlearn: 0.1641759\ttotal: 216ms\tremaining: 14.2s\n",
      "15:\tlearn: 0.1614218\ttotal: 223ms\tremaining: 13.7s\n",
      "16:\tlearn: 0.1558968\ttotal: 238ms\tremaining: 13.8s\n",
      "17:\tlearn: 0.1535881\ttotal: 243ms\tremaining: 13.3s\n",
      "18:\tlearn: 0.1514228\ttotal: 248ms\tremaining: 12.8s\n",
      "19:\tlearn: 0.1482580\ttotal: 253ms\tremaining: 12.4s\n",
      "20:\tlearn: 0.1452536\ttotal: 258ms\tremaining: 12s\n",
      "21:\tlearn: 0.1426992\ttotal: 263ms\tremaining: 11.7s\n",
      "22:\tlearn: 0.1405068\ttotal: 268ms\tremaining: 11.4s\n",
      "23:\tlearn: 0.1381617\ttotal: 273ms\tremaining: 11.1s\n",
      "24:\tlearn: 0.1363558\ttotal: 278ms\tremaining: 10.8s\n",
      "25:\tlearn: 0.1341378\ttotal: 282ms\tremaining: 10.6s\n",
      "26:\tlearn: 0.1323241\ttotal: 287ms\tremaining: 10.3s\n",
      "27:\tlearn: 0.1305175\ttotal: 292ms\tremaining: 10.1s\n",
      "28:\tlearn: 0.1289123\ttotal: 296ms\tremaining: 9.93s\n",
      "29:\tlearn: 0.1278445\ttotal: 301ms\tremaining: 9.74s\n",
      "30:\tlearn: 0.1256489\ttotal: 306ms\tremaining: 9.56s\n",
      "31:\tlearn: 0.1239303\ttotal: 311ms\tremaining: 9.4s\n",
      "32:\tlearn: 0.1216332\ttotal: 327ms\tremaining: 9.59s\n",
      "33:\tlearn: 0.1207898\ttotal: 333ms\tremaining: 9.45s\n",
      "34:\tlearn: 0.1197948\ttotal: 338ms\tremaining: 9.32s\n",
      "35:\tlearn: 0.1187666\ttotal: 343ms\tremaining: 9.19s\n",
      "36:\tlearn: 0.1175524\ttotal: 348ms\tremaining: 9.06s\n",
      "37:\tlearn: 0.1164566\ttotal: 353ms\tremaining: 8.94s\n",
      "38:\tlearn: 0.1156115\ttotal: 359ms\tremaining: 8.84s\n",
      "39:\tlearn: 0.1143547\ttotal: 364ms\tremaining: 8.74s\n",
      "40:\tlearn: 0.1131558\ttotal: 369ms\tremaining: 8.63s\n",
      "41:\tlearn: 0.1122965\ttotal: 374ms\tremaining: 8.52s\n",
      "42:\tlearn: 0.1113744\ttotal: 378ms\tremaining: 8.42s\n",
      "43:\tlearn: 0.1103635\ttotal: 383ms\tremaining: 8.32s\n",
      "44:\tlearn: 0.1093154\ttotal: 388ms\tremaining: 8.23s\n",
      "45:\tlearn: 0.1085949\ttotal: 392ms\tremaining: 8.13s\n",
      "46:\tlearn: 0.1078806\ttotal: 397ms\tremaining: 8.05s\n",
      "47:\tlearn: 0.1071933\ttotal: 402ms\tremaining: 7.97s\n",
      "48:\tlearn: 0.1061508\ttotal: 407ms\tremaining: 7.9s\n",
      "49:\tlearn: 0.1051555\ttotal: 411ms\tremaining: 7.82s\n",
      "50:\tlearn: 0.1044416\ttotal: 416ms\tremaining: 7.74s\n",
      "51:\tlearn: 0.1035176\ttotal: 421ms\tremaining: 7.67s\n",
      "52:\tlearn: 0.1021724\ttotal: 426ms\tremaining: 7.61s\n",
      "53:\tlearn: 0.1012434\ttotal: 446ms\tremaining: 7.81s\n",
      "54:\tlearn: 0.1005327\ttotal: 450ms\tremaining: 7.74s\n",
      "55:\tlearn: 0.0998745\ttotal: 455ms\tremaining: 7.67s\n",
      "56:\tlearn: 0.0986848\ttotal: 460ms\tremaining: 7.62s\n",
      "57:\tlearn: 0.0979806\ttotal: 465ms\tremaining: 7.56s\n",
      "58:\tlearn: 0.0974501\ttotal: 470ms\tremaining: 7.5s\n",
      "59:\tlearn: 0.0967877\ttotal: 492ms\tremaining: 7.7s\n",
      "60:\tlearn: 0.0956301\ttotal: 496ms\tremaining: 7.64s\n",
      "61:\tlearn: 0.0950716\ttotal: 501ms\tremaining: 7.58s\n",
      "62:\tlearn: 0.0943425\ttotal: 506ms\tremaining: 7.52s\n",
      "63:\tlearn: 0.0938689\ttotal: 522ms\tremaining: 7.64s\n",
      "64:\tlearn: 0.0936562\ttotal: 527ms\tremaining: 7.58s\n",
      "65:\tlearn: 0.0931162\ttotal: 532ms\tremaining: 7.53s\n",
      "66:\tlearn: 0.0925359\ttotal: 537ms\tremaining: 7.48s\n",
      "67:\tlearn: 0.0916716\ttotal: 542ms\tremaining: 7.43s\n",
      "68:\tlearn: 0.0906297\ttotal: 546ms\tremaining: 7.37s\n",
      "69:\tlearn: 0.0899342\ttotal: 552ms\tremaining: 7.33s\n",
      "70:\tlearn: 0.0892701\ttotal: 558ms\tremaining: 7.29s\n",
      "71:\tlearn: 0.0888753\ttotal: 569ms\tremaining: 7.33s\n",
      "72:\tlearn: 0.0881357\ttotal: 573ms\tremaining: 7.28s\n",
      "73:\tlearn: 0.0877790\ttotal: 577ms\tremaining: 7.22s\n",
      "74:\tlearn: 0.0874838\ttotal: 582ms\tremaining: 7.17s\n",
      "75:\tlearn: 0.0869608\ttotal: 603ms\tremaining: 7.33s\n",
      "76:\tlearn: 0.0865361\ttotal: 612ms\tremaining: 7.33s\n",
      "77:\tlearn: 0.0861421\ttotal: 621ms\tremaining: 7.33s\n",
      "78:\tlearn: 0.0857547\ttotal: 627ms\tremaining: 7.31s\n",
      "79:\tlearn: 0.0844840\ttotal: 647ms\tremaining: 7.44s\n",
      "80:\tlearn: 0.0840523\ttotal: 656ms\tremaining: 7.44s\n",
      "81:\tlearn: 0.0838115\ttotal: 664ms\tremaining: 7.43s\n",
      "82:\tlearn: 0.0835476\ttotal: 670ms\tremaining: 7.41s\n",
      "83:\tlearn: 0.0831790\ttotal: 676ms\tremaining: 7.37s\n",
      "84:\tlearn: 0.0826715\ttotal: 692ms\tremaining: 7.45s\n",
      "85:\tlearn: 0.0817979\ttotal: 700ms\tremaining: 7.44s\n",
      "86:\tlearn: 0.0813965\ttotal: 723ms\tremaining: 7.58s\n",
      "87:\tlearn: 0.0810891\ttotal: 732ms\tremaining: 7.59s\n",
      "88:\tlearn: 0.0805226\ttotal: 740ms\tremaining: 7.58s\n",
      "89:\tlearn: 0.0800868\ttotal: 747ms\tremaining: 7.55s\n",
      "90:\tlearn: 0.0796689\ttotal: 752ms\tremaining: 7.51s\n",
      "91:\tlearn: 0.0793265\ttotal: 757ms\tremaining: 7.47s\n",
      "92:\tlearn: 0.0789320\ttotal: 763ms\tremaining: 7.45s\n",
      "93:\tlearn: 0.0785365\ttotal: 767ms\tremaining: 7.4s\n",
      "94:\tlearn: 0.0780166\ttotal: 772ms\tremaining: 7.36s\n",
      "95:\tlearn: 0.0771478\ttotal: 776ms\tremaining: 7.31s\n",
      "96:\tlearn: 0.0768522\ttotal: 799ms\tremaining: 7.44s\n",
      "97:\tlearn: 0.0761982\ttotal: 807ms\tremaining: 7.43s\n",
      "98:\tlearn: 0.0758859\ttotal: 814ms\tremaining: 7.41s\n",
      "99:\tlearn: 0.0755311\ttotal: 819ms\tremaining: 7.37s\n",
      "100:\tlearn: 0.0749254\ttotal: 843ms\tremaining: 7.5s\n",
      "101:\tlearn: 0.0745232\ttotal: 852ms\tremaining: 7.5s\n",
      "102:\tlearn: 0.0742103\ttotal: 870ms\tremaining: 7.58s\n",
      "103:\tlearn: 0.0738550\ttotal: 877ms\tremaining: 7.56s\n",
      "104:\tlearn: 0.0733823\ttotal: 884ms\tremaining: 7.54s\n",
      "105:\tlearn: 0.0727215\ttotal: 901ms\tremaining: 7.6s\n",
      "106:\tlearn: 0.0721881\ttotal: 917ms\tremaining: 7.65s\n",
      "107:\tlearn: 0.0719881\ttotal: 932ms\tremaining: 7.7s\n",
      "108:\tlearn: 0.0715811\ttotal: 947ms\tremaining: 7.74s\n",
      "109:\tlearn: 0.0710623\ttotal: 954ms\tremaining: 7.72s\n",
      "110:\tlearn: 0.0707868\ttotal: 963ms\tremaining: 7.71s\n",
      "111:\tlearn: 0.0705032\ttotal: 968ms\tremaining: 7.67s\n",
      "112:\tlearn: 0.0702643\ttotal: 976ms\tremaining: 7.66s\n",
      "113:\tlearn: 0.0700158\ttotal: 981ms\tremaining: 7.63s\n",
      "114:\tlearn: 0.0697033\ttotal: 986ms\tremaining: 7.59s\n",
      "115:\tlearn: 0.0693206\ttotal: 991ms\tremaining: 7.55s\n",
      "116:\tlearn: 0.0688914\ttotal: 996ms\tremaining: 7.52s\n",
      "117:\tlearn: 0.0681163\ttotal: 1s\tremaining: 7.48s\n",
      "118:\tlearn: 0.0677305\ttotal: 1.04s\tremaining: 7.68s\n",
      "119:\tlearn: 0.0675146\ttotal: 1.04s\tremaining: 7.64s\n",
      "120:\tlearn: 0.0670681\ttotal: 1.05s\tremaining: 7.6s\n",
      "121:\tlearn: 0.0667106\ttotal: 1.05s\tremaining: 7.57s\n",
      "122:\tlearn: 0.0664825\ttotal: 1.06s\tremaining: 7.53s\n",
      "123:\tlearn: 0.0661842\ttotal: 1.06s\tremaining: 7.5s\n",
      "124:\tlearn: 0.0656590\ttotal: 1.06s\tremaining: 7.46s\n",
      "125:\tlearn: 0.0653552\ttotal: 1.08s\tremaining: 7.5s\n",
      "126:\tlearn: 0.0650482\ttotal: 1.09s\tremaining: 7.47s\n",
      "127:\tlearn: 0.0647403\ttotal: 1.09s\tremaining: 7.43s\n",
      "128:\tlearn: 0.0645124\ttotal: 1.09s\tremaining: 7.4s\n",
      "129:\tlearn: 0.0642397\ttotal: 1.1s\tremaining: 7.36s\n",
      "130:\tlearn: 0.0638785\ttotal: 1.1s\tremaining: 7.33s\n",
      "131:\tlearn: 0.0636326\ttotal: 1.11s\tremaining: 7.3s\n",
      "132:\tlearn: 0.0634690\ttotal: 1.11s\tremaining: 7.27s\n",
      "133:\tlearn: 0.0630192\ttotal: 1.12s\tremaining: 7.24s\n",
      "134:\tlearn: 0.0626098\ttotal: 1.12s\tremaining: 7.21s\n",
      "135:\tlearn: 0.0624539\ttotal: 1.13s\tremaining: 7.17s\n",
      "136:\tlearn: 0.0620906\ttotal: 1.13s\tremaining: 7.15s\n",
      "137:\tlearn: 0.0618404\ttotal: 1.14s\tremaining: 7.12s\n",
      "138:\tlearn: 0.0616377\ttotal: 1.16s\tremaining: 7.17s\n",
      "139:\tlearn: 0.0614321\ttotal: 1.16s\tremaining: 7.14s\n",
      "140:\tlearn: 0.0610144\ttotal: 1.19s\tremaining: 7.24s\n",
      "141:\tlearn: 0.0607740\ttotal: 1.19s\tremaining: 7.21s\n",
      "142:\tlearn: 0.0604074\ttotal: 1.2s\tremaining: 7.18s\n",
      "143:\tlearn: 0.0601492\ttotal: 1.2s\tremaining: 7.15s\n",
      "144:\tlearn: 0.0599332\ttotal: 1.22s\tremaining: 7.19s\n",
      "145:\tlearn: 0.0595986\ttotal: 1.23s\tremaining: 7.17s\n",
      "146:\tlearn: 0.0594607\ttotal: 1.23s\tremaining: 7.16s\n",
      "147:\tlearn: 0.0592346\ttotal: 1.24s\tremaining: 7.16s\n",
      "148:\tlearn: 0.0590329\ttotal: 1.25s\tremaining: 7.15s\n",
      "149:\tlearn: 0.0588296\ttotal: 1.26s\tremaining: 7.14s\n",
      "150:\tlearn: 0.0585094\ttotal: 1.27s\tremaining: 7.13s\n",
      "151:\tlearn: 0.0583468\ttotal: 1.27s\tremaining: 7.11s\n",
      "152:\tlearn: 0.0581616\ttotal: 1.28s\tremaining: 7.09s\n",
      "153:\tlearn: 0.0579070\ttotal: 1.28s\tremaining: 7.06s\n",
      "154:\tlearn: 0.0577100\ttotal: 1.29s\tremaining: 7.04s\n",
      "155:\tlearn: 0.0575204\ttotal: 1.3s\tremaining: 7.01s\n",
      "156:\tlearn: 0.0572530\ttotal: 1.3s\tremaining: 6.99s\n",
      "157:\tlearn: 0.0569274\ttotal: 1.31s\tremaining: 6.96s\n",
      "158:\tlearn: 0.0566762\ttotal: 1.32s\tremaining: 7.01s\n",
      "159:\tlearn: 0.0565614\ttotal: 1.33s\tremaining: 6.98s\n",
      "160:\tlearn: 0.0562647\ttotal: 1.33s\tremaining: 6.96s\n",
      "161:\tlearn: 0.0560566\ttotal: 1.34s\tremaining: 6.93s\n",
      "162:\tlearn: 0.0558560\ttotal: 1.35s\tremaining: 6.96s\n",
      "163:\tlearn: 0.0554512\ttotal: 1.36s\tremaining: 6.93s\n",
      "164:\tlearn: 0.0552806\ttotal: 1.36s\tremaining: 6.91s\n",
      "165:\tlearn: 0.0550538\ttotal: 1.37s\tremaining: 6.88s\n",
      "166:\tlearn: 0.0548825\ttotal: 1.37s\tremaining: 6.86s\n",
      "167:\tlearn: 0.0547805\ttotal: 1.38s\tremaining: 6.83s\n",
      "168:\tlearn: 0.0546642\ttotal: 1.38s\tremaining: 6.8s\n",
      "169:\tlearn: 0.0543574\ttotal: 1.4s\tremaining: 6.83s\n",
      "170:\tlearn: 0.0542539\ttotal: 1.4s\tremaining: 6.8s\n",
      "171:\tlearn: 0.0540977\ttotal: 1.41s\tremaining: 6.78s\n",
      "172:\tlearn: 0.0539741\ttotal: 1.41s\tremaining: 6.75s\n",
      "173:\tlearn: 0.0537793\ttotal: 1.43s\tremaining: 6.78s\n",
      "174:\tlearn: 0.0535499\ttotal: 1.43s\tremaining: 6.75s\n",
      "175:\tlearn: 0.0533461\ttotal: 1.44s\tremaining: 6.73s\n",
      "176:\tlearn: 0.0531326\ttotal: 1.44s\tremaining: 6.71s\n",
      "177:\tlearn: 0.0530595\ttotal: 1.45s\tremaining: 6.68s\n",
      "178:\tlearn: 0.0529470\ttotal: 1.45s\tremaining: 6.66s\n",
      "179:\tlearn: 0.0527691\ttotal: 1.46s\tremaining: 6.63s\n",
      "180:\tlearn: 0.0526404\ttotal: 1.46s\tremaining: 6.61s\n",
      "181:\tlearn: 0.0525145\ttotal: 1.47s\tremaining: 6.59s\n",
      "182:\tlearn: 0.0524332\ttotal: 1.47s\tremaining: 6.57s\n",
      "183:\tlearn: 0.0522311\ttotal: 1.49s\tremaining: 6.61s\n",
      "184:\tlearn: 0.0519353\ttotal: 1.51s\tremaining: 6.64s\n",
      "185:\tlearn: 0.0515714\ttotal: 1.51s\tremaining: 6.63s\n",
      "186:\tlearn: 0.0514909\ttotal: 1.52s\tremaining: 6.61s\n",
      "187:\tlearn: 0.0513162\ttotal: 1.53s\tremaining: 6.59s\n",
      "188:\tlearn: 0.0511884\ttotal: 1.53s\tremaining: 6.57s\n",
      "189:\tlearn: 0.0510652\ttotal: 1.55s\tremaining: 6.62s\n",
      "190:\tlearn: 0.0509786\ttotal: 1.56s\tremaining: 6.62s\n",
      "191:\tlearn: 0.0508893\ttotal: 1.57s\tremaining: 6.62s\n",
      "192:\tlearn: 0.0505900\ttotal: 1.58s\tremaining: 6.6s\n",
      "193:\tlearn: 0.0504426\ttotal: 1.58s\tremaining: 6.58s\n",
      "194:\tlearn: 0.0502767\ttotal: 1.59s\tremaining: 6.56s\n",
      "195:\tlearn: 0.0500644\ttotal: 1.59s\tremaining: 6.54s\n",
      "196:\tlearn: 0.0499431\ttotal: 1.6s\tremaining: 6.51s\n",
      "197:\tlearn: 0.0498418\ttotal: 1.6s\tremaining: 6.49s\n",
      "198:\tlearn: 0.0497734\ttotal: 1.61s\tremaining: 6.47s\n",
      "199:\tlearn: 0.0496759\ttotal: 1.61s\tremaining: 6.44s\n",
      "200:\tlearn: 0.0494923\ttotal: 1.61s\tremaining: 6.42s\n",
      "201:\tlearn: 0.0493402\ttotal: 1.63s\tremaining: 6.42s\n",
      "202:\tlearn: 0.0492795\ttotal: 1.63s\tremaining: 6.4s\n",
      "203:\tlearn: 0.0489776\ttotal: 1.64s\tremaining: 6.42s\n",
      "204:\tlearn: 0.0486491\ttotal: 1.65s\tremaining: 6.41s\n",
      "205:\tlearn: 0.0484551\ttotal: 1.66s\tremaining: 6.4s\n",
      "206:\tlearn: 0.0482768\ttotal: 1.67s\tremaining: 6.38s\n",
      "207:\tlearn: 0.0481178\ttotal: 1.69s\tremaining: 6.42s\n",
      "208:\tlearn: 0.0479317\ttotal: 1.7s\tremaining: 6.44s\n",
      "209:\tlearn: 0.0476658\ttotal: 1.71s\tremaining: 6.42s\n",
      "210:\tlearn: 0.0474069\ttotal: 1.72s\tremaining: 6.43s\n",
      "211:\tlearn: 0.0471817\ttotal: 1.73s\tremaining: 6.43s\n",
      "212:\tlearn: 0.0470479\ttotal: 1.74s\tremaining: 6.42s\n",
      "213:\tlearn: 0.0469487\ttotal: 1.75s\tremaining: 6.41s\n",
      "214:\tlearn: 0.0468552\ttotal: 1.76s\tremaining: 6.44s\n",
      "215:\tlearn: 0.0466651\ttotal: 1.77s\tremaining: 6.44s\n",
      "216:\tlearn: 0.0465418\ttotal: 1.79s\tremaining: 6.48s\n",
      "217:\tlearn: 0.0464800\ttotal: 1.8s\tremaining: 6.47s\n",
      "218:\tlearn: 0.0463546\ttotal: 1.81s\tremaining: 6.47s\n",
      "219:\tlearn: 0.0461314\ttotal: 1.82s\tremaining: 6.46s\n",
      "220:\tlearn: 0.0460039\ttotal: 1.83s\tremaining: 6.45s\n",
      "221:\tlearn: 0.0458286\ttotal: 1.83s\tremaining: 6.43s\n",
      "222:\tlearn: 0.0456749\ttotal: 1.84s\tremaining: 6.41s\n",
      "223:\tlearn: 0.0455866\ttotal: 1.84s\tremaining: 6.39s\n",
      "224:\tlearn: 0.0453525\ttotal: 1.85s\tremaining: 6.37s\n",
      "225:\tlearn: 0.0452161\ttotal: 1.85s\tremaining: 6.35s\n",
      "226:\tlearn: 0.0450903\ttotal: 1.86s\tremaining: 6.33s\n",
      "227:\tlearn: 0.0449873\ttotal: 1.87s\tremaining: 6.32s\n",
      "228:\tlearn: 0.0448315\ttotal: 1.87s\tremaining: 6.3s\n",
      "229:\tlearn: 0.0447866\ttotal: 1.88s\tremaining: 6.28s\n",
      "230:\tlearn: 0.0447060\ttotal: 1.88s\tremaining: 6.26s\n",
      "231:\tlearn: 0.0446381\ttotal: 1.89s\tremaining: 6.24s\n",
      "232:\tlearn: 0.0445557\ttotal: 1.89s\tremaining: 6.22s\n",
      "233:\tlearn: 0.0445173\ttotal: 1.91s\tremaining: 6.26s\n",
      "234:\tlearn: 0.0444360\ttotal: 1.92s\tremaining: 6.24s\n",
      "235:\tlearn: 0.0442935\ttotal: 1.93s\tremaining: 6.24s\n",
      "236:\tlearn: 0.0441398\ttotal: 1.93s\tremaining: 6.22s\n",
      "237:\tlearn: 0.0440522\ttotal: 1.94s\tremaining: 6.2s\n",
      "238:\tlearn: 0.0439884\ttotal: 1.94s\tremaining: 6.18s\n",
      "239:\tlearn: 0.0438421\ttotal: 1.95s\tremaining: 6.17s\n",
      "240:\tlearn: 0.0437281\ttotal: 1.96s\tremaining: 6.16s\n",
      "241:\tlearn: 0.0435951\ttotal: 1.96s\tremaining: 6.14s\n",
      "242:\tlearn: 0.0435615\ttotal: 1.97s\tremaining: 6.13s\n",
      "243:\tlearn: 0.0433870\ttotal: 1.97s\tremaining: 6.11s\n",
      "244:\tlearn: 0.0432718\ttotal: 1.99s\tremaining: 6.12s\n",
      "245:\tlearn: 0.0431472\ttotal: 1.99s\tremaining: 6.1s\n",
      "246:\tlearn: 0.0430067\ttotal: 2s\tremaining: 6.09s\n",
      "247:\tlearn: 0.0429156\ttotal: 2.02s\tremaining: 6.12s\n",
      "248:\tlearn: 0.0428247\ttotal: 2.02s\tremaining: 6.1s\n",
      "249:\tlearn: 0.0427609\ttotal: 2.03s\tremaining: 6.09s\n",
      "250:\tlearn: 0.0426800\ttotal: 2.03s\tremaining: 6.07s\n",
      "251:\tlearn: 0.0425901\ttotal: 2.04s\tremaining: 6.05s\n",
      "252:\tlearn: 0.0425048\ttotal: 2.05s\tremaining: 6.04s\n",
      "253:\tlearn: 0.0423799\ttotal: 2.06s\tremaining: 6.06s\n",
      "254:\tlearn: 0.0423338\ttotal: 2.07s\tremaining: 6.04s\n",
      "255:\tlearn: 0.0422537\ttotal: 2.07s\tremaining: 6.03s\n",
      "256:\tlearn: 0.0420667\ttotal: 2.08s\tremaining: 6.01s\n",
      "257:\tlearn: 0.0419256\ttotal: 2.08s\tremaining: 5.99s\n",
      "258:\tlearn: 0.0418053\ttotal: 2.09s\tremaining: 5.99s\n",
      "259:\tlearn: 0.0417602\ttotal: 2.1s\tremaining: 5.97s\n",
      "260:\tlearn: 0.0416520\ttotal: 2.1s\tremaining: 5.95s\n",
      "261:\tlearn: 0.0415031\ttotal: 2.11s\tremaining: 5.94s\n",
      "262:\tlearn: 0.0414180\ttotal: 2.11s\tremaining: 5.92s\n",
      "263:\tlearn: 0.0413413\ttotal: 2.12s\tremaining: 5.9s\n",
      "264:\tlearn: 0.0412434\ttotal: 2.14s\tremaining: 5.93s\n",
      "265:\tlearn: 0.0410701\ttotal: 2.15s\tremaining: 5.94s\n",
      "266:\tlearn: 0.0409790\ttotal: 2.16s\tremaining: 5.92s\n",
      "267:\tlearn: 0.0408507\ttotal: 2.16s\tremaining: 5.9s\n",
      "268:\tlearn: 0.0406738\ttotal: 2.17s\tremaining: 5.89s\n",
      "269:\tlearn: 0.0405711\ttotal: 2.17s\tremaining: 5.88s\n",
      "270:\tlearn: 0.0405166\ttotal: 2.18s\tremaining: 5.86s\n",
      "271:\tlearn: 0.0404571\ttotal: 2.18s\tremaining: 5.84s\n",
      "272:\tlearn: 0.0404132\ttotal: 2.19s\tremaining: 5.83s\n",
      "273:\tlearn: 0.0403448\ttotal: 2.19s\tremaining: 5.81s\n",
      "274:\tlearn: 0.0402405\ttotal: 2.2s\tremaining: 5.79s\n",
      "275:\tlearn: 0.0401784\ttotal: 2.21s\tremaining: 5.8s\n",
      "276:\tlearn: 0.0401032\ttotal: 2.22s\tremaining: 5.79s\n",
      "277:\tlearn: 0.0400037\ttotal: 2.22s\tremaining: 5.77s\n",
      "278:\tlearn: 0.0399720\ttotal: 2.23s\tremaining: 5.76s\n",
      "279:\tlearn: 0.0399098\ttotal: 2.23s\tremaining: 5.75s\n",
      "280:\tlearn: 0.0398193\ttotal: 2.24s\tremaining: 5.73s\n",
      "281:\tlearn: 0.0397107\ttotal: 2.25s\tremaining: 5.72s\n",
      "282:\tlearn: 0.0396238\ttotal: 2.25s\tremaining: 5.7s\n",
      "283:\tlearn: 0.0395599\ttotal: 2.25s\tremaining: 5.68s\n",
      "284:\tlearn: 0.0394077\ttotal: 2.26s\tremaining: 5.67s\n",
      "285:\tlearn: 0.0393553\ttotal: 2.26s\tremaining: 5.65s\n",
      "286:\tlearn: 0.0392617\ttotal: 2.27s\tremaining: 5.64s\n",
      "287:\tlearn: 0.0391791\ttotal: 2.27s\tremaining: 5.62s\n",
      "288:\tlearn: 0.0391059\ttotal: 2.29s\tremaining: 5.63s\n",
      "289:\tlearn: 0.0389925\ttotal: 2.29s\tremaining: 5.61s\n",
      "290:\tlearn: 0.0388878\ttotal: 2.3s\tremaining: 5.6s\n",
      "291:\tlearn: 0.0388529\ttotal: 2.3s\tremaining: 5.58s\n",
      "292:\tlearn: 0.0387915\ttotal: 2.31s\tremaining: 5.57s\n",
      "293:\tlearn: 0.0386696\ttotal: 2.31s\tremaining: 5.55s\n",
      "294:\tlearn: 0.0385486\ttotal: 2.32s\tremaining: 5.54s\n",
      "295:\tlearn: 0.0384982\ttotal: 2.32s\tremaining: 5.52s\n",
      "296:\tlearn: 0.0384189\ttotal: 2.33s\tremaining: 5.51s\n",
      "297:\tlearn: 0.0383475\ttotal: 2.33s\tremaining: 5.49s\n",
      "298:\tlearn: 0.0382923\ttotal: 2.35s\tremaining: 5.5s\n",
      "299:\tlearn: 0.0382194\ttotal: 2.35s\tremaining: 5.49s\n",
      "300:\tlearn: 0.0381712\ttotal: 2.36s\tremaining: 5.47s\n",
      "301:\tlearn: 0.0380901\ttotal: 2.36s\tremaining: 5.46s\n",
      "302:\tlearn: 0.0379529\ttotal: 2.37s\tremaining: 5.45s\n",
      "303:\tlearn: 0.0378866\ttotal: 2.39s\tremaining: 5.48s\n",
      "304:\tlearn: 0.0377794\ttotal: 2.4s\tremaining: 5.47s\n",
      "305:\tlearn: 0.0376159\ttotal: 2.4s\tremaining: 5.45s\n",
      "306:\tlearn: 0.0374973\ttotal: 2.41s\tremaining: 5.44s\n",
      "307:\tlearn: 0.0374268\ttotal: 2.41s\tremaining: 5.42s\n",
      "308:\tlearn: 0.0373551\ttotal: 2.42s\tremaining: 5.42s\n",
      "309:\tlearn: 0.0372996\ttotal: 2.43s\tremaining: 5.41s\n",
      "310:\tlearn: 0.0372491\ttotal: 2.44s\tremaining: 5.4s\n",
      "311:\tlearn: 0.0372046\ttotal: 2.46s\tremaining: 5.42s\n",
      "312:\tlearn: 0.0371458\ttotal: 2.47s\tremaining: 5.43s\n",
      "313:\tlearn: 0.0370351\ttotal: 2.48s\tremaining: 5.42s\n",
      "314:\tlearn: 0.0369537\ttotal: 2.5s\tremaining: 5.44s\n",
      "315:\tlearn: 0.0368912\ttotal: 2.52s\tremaining: 5.45s\n",
      "316:\tlearn: 0.0368514\ttotal: 2.53s\tremaining: 5.46s\n",
      "317:\tlearn: 0.0368131\ttotal: 2.54s\tremaining: 5.45s\n",
      "318:\tlearn: 0.0367792\ttotal: 2.55s\tremaining: 5.44s\n",
      "319:\tlearn: 0.0367279\ttotal: 2.55s\tremaining: 5.43s\n",
      "320:\tlearn: 0.0367059\ttotal: 2.56s\tremaining: 5.41s\n",
      "321:\tlearn: 0.0366599\ttotal: 2.56s\tremaining: 5.4s\n",
      "322:\tlearn: 0.0365020\ttotal: 2.57s\tremaining: 5.38s\n",
      "323:\tlearn: 0.0364542\ttotal: 2.57s\tremaining: 5.37s\n",
      "324:\tlearn: 0.0364204\ttotal: 2.58s\tremaining: 5.35s\n",
      "325:\tlearn: 0.0363625\ttotal: 2.58s\tremaining: 5.34s\n",
      "326:\tlearn: 0.0362867\ttotal: 2.59s\tremaining: 5.34s\n",
      "327:\tlearn: 0.0362404\ttotal: 2.6s\tremaining: 5.32s\n",
      "328:\tlearn: 0.0361574\ttotal: 2.6s\tremaining: 5.31s\n",
      "329:\tlearn: 0.0361096\ttotal: 2.61s\tremaining: 5.29s\n",
      "330:\tlearn: 0.0360786\ttotal: 2.61s\tremaining: 5.28s\n",
      "331:\tlearn: 0.0360080\ttotal: 2.62s\tremaining: 5.26s\n",
      "332:\tlearn: 0.0359705\ttotal: 2.62s\tremaining: 5.25s\n",
      "333:\tlearn: 0.0359041\ttotal: 2.62s\tremaining: 5.23s\n",
      "334:\tlearn: 0.0358134\ttotal: 2.64s\tremaining: 5.23s\n",
      "335:\tlearn: 0.0357625\ttotal: 2.64s\tremaining: 5.22s\n",
      "336:\tlearn: 0.0356498\ttotal: 2.66s\tremaining: 5.23s\n",
      "337:\tlearn: 0.0355630\ttotal: 2.67s\tremaining: 5.23s\n",
      "338:\tlearn: 0.0354664\ttotal: 2.69s\tremaining: 5.24s\n",
      "339:\tlearn: 0.0354328\ttotal: 2.7s\tremaining: 5.23s\n",
      "340:\tlearn: 0.0353908\ttotal: 2.7s\tremaining: 5.22s\n",
      "341:\tlearn: 0.0353248\ttotal: 2.71s\tremaining: 5.21s\n",
      "342:\tlearn: 0.0352669\ttotal: 2.71s\tremaining: 5.2s\n",
      "343:\tlearn: 0.0352172\ttotal: 2.72s\tremaining: 5.18s\n",
      "344:\tlearn: 0.0351687\ttotal: 2.75s\tremaining: 5.22s\n",
      "345:\tlearn: 0.0351475\ttotal: 2.76s\tremaining: 5.22s\n",
      "346:\tlearn: 0.0350233\ttotal: 2.77s\tremaining: 5.21s\n",
      "347:\tlearn: 0.0349995\ttotal: 2.78s\tremaining: 5.2s\n",
      "348:\tlearn: 0.0349414\ttotal: 2.79s\tremaining: 5.21s\n",
      "349:\tlearn: 0.0349034\ttotal: 2.81s\tremaining: 5.22s\n",
      "350:\tlearn: 0.0348012\ttotal: 2.83s\tremaining: 5.23s\n",
      "351:\tlearn: 0.0347637\ttotal: 2.84s\tremaining: 5.22s\n",
      "352:\tlearn: 0.0347316\ttotal: 2.86s\tremaining: 5.24s\n",
      "353:\tlearn: 0.0346767\ttotal: 2.86s\tremaining: 5.22s\n",
      "354:\tlearn: 0.0346415\ttotal: 2.87s\tremaining: 5.21s\n",
      "355:\tlearn: 0.0345842\ttotal: 2.87s\tremaining: 5.19s\n",
      "356:\tlearn: 0.0344702\ttotal: 2.88s\tremaining: 5.2s\n",
      "357:\tlearn: 0.0343870\ttotal: 2.9s\tremaining: 5.2s\n",
      "358:\tlearn: 0.0343532\ttotal: 2.9s\tremaining: 5.19s\n",
      "359:\tlearn: 0.0342877\ttotal: 2.92s\tremaining: 5.18s\n",
      "360:\tlearn: 0.0341769\ttotal: 2.92s\tremaining: 5.17s\n",
      "361:\tlearn: 0.0341559\ttotal: 2.92s\tremaining: 5.16s\n",
      "362:\tlearn: 0.0340802\ttotal: 2.93s\tremaining: 5.14s\n",
      "363:\tlearn: 0.0340117\ttotal: 2.93s\tremaining: 5.13s\n",
      "364:\tlearn: 0.0339431\ttotal: 2.94s\tremaining: 5.12s\n",
      "365:\tlearn: 0.0338809\ttotal: 2.94s\tremaining: 5.1s\n",
      "366:\tlearn: 0.0338159\ttotal: 2.95s\tremaining: 5.09s\n",
      "367:\tlearn: 0.0337862\ttotal: 2.96s\tremaining: 5.08s\n",
      "368:\tlearn: 0.0337620\ttotal: 2.96s\tremaining: 5.06s\n",
      "369:\tlearn: 0.0337018\ttotal: 2.99s\tremaining: 5.09s\n",
      "370:\tlearn: 0.0336391\ttotal: 3s\tremaining: 5.08s\n",
      "371:\tlearn: 0.0335537\ttotal: 3s\tremaining: 5.07s\n",
      "372:\tlearn: 0.0335024\ttotal: 3.01s\tremaining: 5.05s\n",
      "373:\tlearn: 0.0334719\ttotal: 3.01s\tremaining: 5.04s\n",
      "374:\tlearn: 0.0334368\ttotal: 3.02s\tremaining: 5.03s\n",
      "375:\tlearn: 0.0333678\ttotal: 3.02s\tremaining: 5.02s\n",
      "376:\tlearn: 0.0333293\ttotal: 3.03s\tremaining: 5s\n",
      "377:\tlearn: 0.0332929\ttotal: 3.03s\tremaining: 4.99s\n",
      "378:\tlearn: 0.0332465\ttotal: 3.04s\tremaining: 4.97s\n",
      "379:\tlearn: 0.0331731\ttotal: 3.04s\tremaining: 4.96s\n",
      "380:\tlearn: 0.0331123\ttotal: 3.05s\tremaining: 4.95s\n",
      "381:\tlearn: 0.0330815\ttotal: 3.05s\tremaining: 4.93s\n",
      "382:\tlearn: 0.0329911\ttotal: 3.06s\tremaining: 4.92s\n",
      "383:\tlearn: 0.0329486\ttotal: 3.06s\tremaining: 4.91s\n",
      "384:\tlearn: 0.0329158\ttotal: 3.06s\tremaining: 4.9s\n",
      "385:\tlearn: 0.0328825\ttotal: 3.07s\tremaining: 4.88s\n",
      "386:\tlearn: 0.0328548\ttotal: 3.08s\tremaining: 4.87s\n",
      "387:\tlearn: 0.0327810\ttotal: 3.08s\tremaining: 4.86s\n",
      "388:\tlearn: 0.0327590\ttotal: 3.1s\tremaining: 4.87s\n",
      "389:\tlearn: 0.0327366\ttotal: 3.1s\tremaining: 4.85s\n",
      "390:\tlearn: 0.0326258\ttotal: 3.11s\tremaining: 4.84s\n",
      "391:\tlearn: 0.0326089\ttotal: 3.11s\tremaining: 4.83s\n",
      "392:\tlearn: 0.0325731\ttotal: 3.12s\tremaining: 4.82s\n",
      "393:\tlearn: 0.0325410\ttotal: 3.12s\tremaining: 4.8s\n",
      "394:\tlearn: 0.0325172\ttotal: 3.14s\tremaining: 4.82s\n",
      "395:\tlearn: 0.0324639\ttotal: 3.17s\tremaining: 4.84s\n",
      "396:\tlearn: 0.0324274\ttotal: 3.18s\tremaining: 4.83s\n",
      "397:\tlearn: 0.0323686\ttotal: 3.19s\tremaining: 4.82s\n",
      "398:\tlearn: 0.0323451\ttotal: 3.19s\tremaining: 4.81s\n",
      "399:\tlearn: 0.0323018\ttotal: 3.21s\tremaining: 4.81s\n",
      "400:\tlearn: 0.0322754\ttotal: 3.21s\tremaining: 4.79s\n",
      "401:\tlearn: 0.0322375\ttotal: 3.23s\tremaining: 4.81s\n",
      "402:\tlearn: 0.0322034\ttotal: 3.24s\tremaining: 4.8s\n",
      "403:\tlearn: 0.0321289\ttotal: 3.25s\tremaining: 4.79s\n",
      "404:\tlearn: 0.0320859\ttotal: 3.27s\tremaining: 4.8s\n",
      "405:\tlearn: 0.0320485\ttotal: 3.27s\tremaining: 4.79s\n",
      "406:\tlearn: 0.0320104\ttotal: 3.28s\tremaining: 4.78s\n",
      "407:\tlearn: 0.0319307\ttotal: 3.29s\tremaining: 4.77s\n",
      "408:\tlearn: 0.0318545\ttotal: 3.3s\tremaining: 4.76s\n",
      "409:\tlearn: 0.0317902\ttotal: 3.3s\tremaining: 4.75s\n",
      "410:\tlearn: 0.0317538\ttotal: 3.31s\tremaining: 4.74s\n",
      "411:\tlearn: 0.0316677\ttotal: 3.31s\tremaining: 4.73s\n",
      "412:\tlearn: 0.0316340\ttotal: 3.32s\tremaining: 4.72s\n",
      "413:\tlearn: 0.0316212\ttotal: 3.33s\tremaining: 4.71s\n",
      "414:\tlearn: 0.0315865\ttotal: 3.33s\tremaining: 4.7s\n",
      "415:\tlearn: 0.0315026\ttotal: 3.34s\tremaining: 4.69s\n",
      "416:\tlearn: 0.0314715\ttotal: 3.35s\tremaining: 4.68s\n",
      "417:\tlearn: 0.0314461\ttotal: 3.35s\tremaining: 4.67s\n",
      "418:\tlearn: 0.0313943\ttotal: 3.36s\tremaining: 4.66s\n",
      "419:\tlearn: 0.0313461\ttotal: 3.36s\tremaining: 4.64s\n",
      "420:\tlearn: 0.0313159\ttotal: 3.37s\tremaining: 4.63s\n",
      "421:\tlearn: 0.0312338\ttotal: 3.38s\tremaining: 4.62s\n",
      "422:\tlearn: 0.0311835\ttotal: 3.38s\tremaining: 4.62s\n",
      "423:\tlearn: 0.0311514\ttotal: 3.42s\tremaining: 4.64s\n",
      "424:\tlearn: 0.0311268\ttotal: 3.43s\tremaining: 4.64s\n",
      "425:\tlearn: 0.0310930\ttotal: 3.44s\tremaining: 4.64s\n",
      "426:\tlearn: 0.0310731\ttotal: 3.45s\tremaining: 4.63s\n",
      "427:\tlearn: 0.0310464\ttotal: 3.46s\tremaining: 4.63s\n",
      "428:\tlearn: 0.0310290\ttotal: 3.47s\tremaining: 4.62s\n",
      "429:\tlearn: 0.0309284\ttotal: 3.48s\tremaining: 4.61s\n",
      "430:\tlearn: 0.0308976\ttotal: 3.48s\tremaining: 4.59s\n",
      "431:\tlearn: 0.0308595\ttotal: 3.49s\tremaining: 4.58s\n",
      "432:\tlearn: 0.0308032\ttotal: 3.49s\tremaining: 4.57s\n",
      "433:\tlearn: 0.0307802\ttotal: 3.51s\tremaining: 4.57s\n",
      "434:\tlearn: 0.0307535\ttotal: 3.53s\tremaining: 4.58s\n",
      "435:\tlearn: 0.0307110\ttotal: 3.54s\tremaining: 4.57s\n",
      "436:\tlearn: 0.0306538\ttotal: 3.54s\tremaining: 4.57s\n",
      "437:\tlearn: 0.0306330\ttotal: 3.56s\tremaining: 4.56s\n",
      "438:\tlearn: 0.0305571\ttotal: 3.56s\tremaining: 4.55s\n",
      "439:\tlearn: 0.0305150\ttotal: 3.57s\tremaining: 4.54s\n",
      "440:\tlearn: 0.0304785\ttotal: 3.58s\tremaining: 4.53s\n",
      "441:\tlearn: 0.0304221\ttotal: 3.58s\tremaining: 4.52s\n",
      "442:\tlearn: 0.0303907\ttotal: 3.59s\tremaining: 4.51s\n",
      "443:\tlearn: 0.0303609\ttotal: 3.59s\tremaining: 4.5s\n",
      "444:\tlearn: 0.0303213\ttotal: 3.6s\tremaining: 4.49s\n",
      "445:\tlearn: 0.0302887\ttotal: 3.62s\tremaining: 4.5s\n",
      "446:\tlearn: 0.0302621\ttotal: 3.63s\tremaining: 4.49s\n",
      "447:\tlearn: 0.0302124\ttotal: 3.64s\tremaining: 4.48s\n",
      "448:\tlearn: 0.0301405\ttotal: 3.64s\tremaining: 4.47s\n",
      "449:\tlearn: 0.0300815\ttotal: 3.67s\tremaining: 4.48s\n",
      "450:\tlearn: 0.0300647\ttotal: 3.68s\tremaining: 4.47s\n",
      "451:\tlearn: 0.0300459\ttotal: 3.68s\tremaining: 4.47s\n",
      "452:\tlearn: 0.0300161\ttotal: 3.69s\tremaining: 4.46s\n",
      "453:\tlearn: 0.0299954\ttotal: 3.69s\tremaining: 4.44s\n",
      "454:\tlearn: 0.0299746\ttotal: 3.71s\tremaining: 4.44s\n",
      "455:\tlearn: 0.0299508\ttotal: 3.72s\tremaining: 4.44s\n",
      "456:\tlearn: 0.0299217\ttotal: 3.73s\tremaining: 4.43s\n",
      "457:\tlearn: 0.0298771\ttotal: 3.73s\tremaining: 4.42s\n",
      "458:\tlearn: 0.0298484\ttotal: 3.74s\tremaining: 4.4s\n",
      "459:\tlearn: 0.0297568\ttotal: 3.75s\tremaining: 4.41s\n",
      "460:\tlearn: 0.0297214\ttotal: 3.76s\tremaining: 4.39s\n",
      "461:\tlearn: 0.0296698\ttotal: 3.76s\tremaining: 4.38s\n",
      "462:\tlearn: 0.0296293\ttotal: 3.77s\tremaining: 4.37s\n",
      "463:\tlearn: 0.0295711\ttotal: 3.77s\tremaining: 4.35s\n",
      "464:\tlearn: 0.0295020\ttotal: 3.77s\tremaining: 4.34s\n",
      "465:\tlearn: 0.0294799\ttotal: 3.78s\tremaining: 4.33s\n",
      "466:\tlearn: 0.0294567\ttotal: 3.78s\tremaining: 4.32s\n",
      "467:\tlearn: 0.0294008\ttotal: 3.8s\tremaining: 4.32s\n",
      "468:\tlearn: 0.0293838\ttotal: 3.8s\tremaining: 4.3s\n",
      "469:\tlearn: 0.0293451\ttotal: 3.81s\tremaining: 4.29s\n",
      "470:\tlearn: 0.0292726\ttotal: 3.81s\tremaining: 4.28s\n",
      "471:\tlearn: 0.0292532\ttotal: 3.82s\tremaining: 4.27s\n",
      "472:\tlearn: 0.0292369\ttotal: 3.82s\tremaining: 4.26s\n",
      "473:\tlearn: 0.0292060\ttotal: 3.83s\tremaining: 4.25s\n",
      "474:\tlearn: 0.0291648\ttotal: 3.83s\tremaining: 4.24s\n",
      "475:\tlearn: 0.0291437\ttotal: 3.84s\tremaining: 4.23s\n",
      "476:\tlearn: 0.0291307\ttotal: 3.86s\tremaining: 4.23s\n",
      "477:\tlearn: 0.0290859\ttotal: 3.86s\tremaining: 4.22s\n",
      "478:\tlearn: 0.0290415\ttotal: 3.87s\tremaining: 4.21s\n",
      "479:\tlearn: 0.0290107\ttotal: 3.87s\tremaining: 4.2s\n",
      "480:\tlearn: 0.0289936\ttotal: 3.88s\tremaining: 4.19s\n",
      "481:\tlearn: 0.0289936\ttotal: 3.88s\tremaining: 4.17s\n",
      "482:\tlearn: 0.0289743\ttotal: 3.89s\tremaining: 4.16s\n",
      "483:\tlearn: 0.0289140\ttotal: 3.9s\tremaining: 4.16s\n",
      "484:\tlearn: 0.0288924\ttotal: 3.91s\tremaining: 4.15s\n",
      "485:\tlearn: 0.0288696\ttotal: 3.91s\tremaining: 4.14s\n",
      "486:\tlearn: 0.0288169\ttotal: 3.92s\tremaining: 4.13s\n",
      "487:\tlearn: 0.0287841\ttotal: 3.92s\tremaining: 4.11s\n",
      "488:\tlearn: 0.0287586\ttotal: 3.93s\tremaining: 4.1s\n",
      "489:\tlearn: 0.0286968\ttotal: 3.93s\tremaining: 4.09s\n",
      "490:\tlearn: 0.0286539\ttotal: 3.95s\tremaining: 4.09s\n",
      "491:\tlearn: 0.0286538\ttotal: 3.96s\tremaining: 4.09s\n",
      "492:\tlearn: 0.0286356\ttotal: 3.97s\tremaining: 4.08s\n",
      "493:\tlearn: 0.0286061\ttotal: 3.97s\tremaining: 4.07s\n",
      "494:\tlearn: 0.0285691\ttotal: 3.98s\tremaining: 4.06s\n",
      "495:\tlearn: 0.0285441\ttotal: 3.98s\tremaining: 4.05s\n",
      "496:\tlearn: 0.0285307\ttotal: 3.99s\tremaining: 4.03s\n",
      "497:\tlearn: 0.0285271\ttotal: 3.99s\tremaining: 4.02s\n",
      "498:\tlearn: 0.0285108\ttotal: 4s\tremaining: 4.01s\n",
      "499:\tlearn: 0.0285107\ttotal: 4s\tremaining: 4s\n",
      "500:\tlearn: 0.0284578\ttotal: 4s\tremaining: 3.99s\n",
      "501:\tlearn: 0.0284303\ttotal: 4.02s\tremaining: 3.99s\n",
      "502:\tlearn: 0.0283938\ttotal: 4.03s\tremaining: 3.98s\n",
      "503:\tlearn: 0.0283746\ttotal: 4.04s\tremaining: 3.97s\n",
      "504:\tlearn: 0.0283744\ttotal: 4.05s\tremaining: 3.97s\n",
      "505:\tlearn: 0.0283597\ttotal: 4.06s\tremaining: 3.96s\n",
      "506:\tlearn: 0.0283347\ttotal: 4.07s\tremaining: 3.96s\n",
      "507:\tlearn: 0.0283150\ttotal: 4.08s\tremaining: 3.95s\n",
      "508:\tlearn: 0.0282995\ttotal: 4.08s\tremaining: 3.94s\n",
      "509:\tlearn: 0.0282783\ttotal: 4.13s\tremaining: 3.97s\n",
      "510:\tlearn: 0.0282568\ttotal: 4.14s\tremaining: 3.97s\n",
      "511:\tlearn: 0.0281979\ttotal: 4.16s\tremaining: 3.96s\n",
      "512:\tlearn: 0.0281211\ttotal: 4.17s\tremaining: 3.96s\n",
      "513:\tlearn: 0.0280864\ttotal: 4.18s\tremaining: 3.95s\n",
      "514:\tlearn: 0.0280602\ttotal: 4.21s\tremaining: 3.96s\n",
      "515:\tlearn: 0.0280478\ttotal: 4.21s\tremaining: 3.95s\n",
      "516:\tlearn: 0.0280324\ttotal: 4.22s\tremaining: 3.94s\n",
      "517:\tlearn: 0.0279982\ttotal: 4.24s\tremaining: 3.94s\n",
      "518:\tlearn: 0.0279833\ttotal: 4.24s\tremaining: 3.93s\n",
      "519:\tlearn: 0.0279698\ttotal: 4.25s\tremaining: 3.92s\n",
      "520:\tlearn: 0.0279248\ttotal: 4.25s\tremaining: 3.91s\n",
      "521:\tlearn: 0.0279247\ttotal: 4.28s\tremaining: 3.92s\n",
      "522:\tlearn: 0.0279247\ttotal: 4.29s\tremaining: 3.91s\n",
      "523:\tlearn: 0.0279246\ttotal: 4.29s\tremaining: 3.9s\n",
      "524:\tlearn: 0.0279246\ttotal: 4.3s\tremaining: 3.89s\n",
      "525:\tlearn: 0.0279246\ttotal: 4.3s\tremaining: 3.88s\n",
      "526:\tlearn: 0.0279246\ttotal: 4.3s\tremaining: 3.86s\n",
      "527:\tlearn: 0.0279147\ttotal: 4.31s\tremaining: 3.85s\n",
      "528:\tlearn: 0.0279106\ttotal: 4.32s\tremaining: 3.84s\n",
      "529:\tlearn: 0.0278729\ttotal: 4.33s\tremaining: 3.83s\n",
      "530:\tlearn: 0.0278476\ttotal: 4.33s\tremaining: 3.82s\n",
      "531:\tlearn: 0.0278108\ttotal: 4.34s\tremaining: 3.82s\n",
      "532:\tlearn: 0.0278107\ttotal: 4.35s\tremaining: 3.81s\n",
      "533:\tlearn: 0.0277973\ttotal: 4.36s\tremaining: 3.8s\n",
      "534:\tlearn: 0.0277505\ttotal: 4.36s\tremaining: 3.79s\n",
      "535:\tlearn: 0.0277376\ttotal: 4.37s\tremaining: 3.78s\n",
      "536:\tlearn: 0.0277213\ttotal: 4.38s\tremaining: 3.77s\n",
      "537:\tlearn: 0.0276906\ttotal: 4.39s\tremaining: 3.77s\n",
      "538:\tlearn: 0.0276736\ttotal: 4.39s\tremaining: 3.75s\n",
      "539:\tlearn: 0.0276546\ttotal: 4.4s\tremaining: 3.75s\n",
      "540:\tlearn: 0.0276545\ttotal: 4.41s\tremaining: 3.74s\n",
      "541:\tlearn: 0.0276230\ttotal: 4.41s\tremaining: 3.73s\n",
      "542:\tlearn: 0.0275952\ttotal: 4.41s\tremaining: 3.71s\n",
      "543:\tlearn: 0.0275801\ttotal: 4.42s\tremaining: 3.7s\n",
      "544:\tlearn: 0.0275523\ttotal: 4.42s\tremaining: 3.69s\n",
      "545:\tlearn: 0.0275116\ttotal: 4.43s\tremaining: 3.68s\n",
      "546:\tlearn: 0.0275110\ttotal: 4.43s\tremaining: 3.67s\n",
      "547:\tlearn: 0.0274838\ttotal: 4.44s\tremaining: 3.66s\n",
      "548:\tlearn: 0.0274730\ttotal: 4.44s\tremaining: 3.65s\n",
      "549:\tlearn: 0.0274373\ttotal: 4.45s\tremaining: 3.64s\n",
      "550:\tlearn: 0.0274372\ttotal: 4.45s\tremaining: 3.63s\n",
      "551:\tlearn: 0.0274062\ttotal: 4.45s\tremaining: 3.62s\n",
      "552:\tlearn: 0.0273534\ttotal: 4.46s\tremaining: 3.6s\n",
      "553:\tlearn: 0.0273206\ttotal: 4.46s\tremaining: 3.59s\n",
      "554:\tlearn: 0.0273206\ttotal: 4.47s\tremaining: 3.58s\n",
      "555:\tlearn: 0.0272855\ttotal: 4.47s\tremaining: 3.57s\n",
      "556:\tlearn: 0.0272855\ttotal: 4.5s\tremaining: 3.58s\n",
      "557:\tlearn: 0.0272748\ttotal: 4.5s\tremaining: 3.57s\n",
      "558:\tlearn: 0.0272470\ttotal: 4.53s\tremaining: 3.57s\n",
      "559:\tlearn: 0.0272083\ttotal: 4.54s\tremaining: 3.57s\n",
      "560:\tlearn: 0.0271917\ttotal: 4.54s\tremaining: 3.56s\n",
      "561:\tlearn: 0.0271917\ttotal: 4.55s\tremaining: 3.55s\n",
      "562:\tlearn: 0.0271917\ttotal: 4.59s\tremaining: 3.56s\n",
      "563:\tlearn: 0.0271917\ttotal: 4.6s\tremaining: 3.55s\n",
      "564:\tlearn: 0.0271842\ttotal: 4.61s\tremaining: 3.55s\n",
      "565:\tlearn: 0.0271671\ttotal: 4.62s\tremaining: 3.54s\n",
      "566:\tlearn: 0.0271555\ttotal: 4.63s\tremaining: 3.54s\n",
      "567:\tlearn: 0.0271357\ttotal: 4.64s\tremaining: 3.53s\n",
      "568:\tlearn: 0.0271357\ttotal: 4.65s\tremaining: 3.52s\n",
      "569:\tlearn: 0.0271357\ttotal: 4.66s\tremaining: 3.51s\n",
      "570:\tlearn: 0.0271353\ttotal: 4.66s\tremaining: 3.5s\n",
      "571:\tlearn: 0.0271235\ttotal: 4.68s\tremaining: 3.5s\n",
      "572:\tlearn: 0.0270982\ttotal: 4.68s\tremaining: 3.49s\n",
      "573:\tlearn: 0.0270760\ttotal: 4.71s\tremaining: 3.49s\n",
      "574:\tlearn: 0.0270563\ttotal: 4.72s\tremaining: 3.49s\n",
      "575:\tlearn: 0.0270136\ttotal: 4.73s\tremaining: 3.48s\n",
      "576:\tlearn: 0.0270136\ttotal: 4.73s\tremaining: 3.47s\n",
      "577:\tlearn: 0.0269878\ttotal: 4.74s\tremaining: 3.46s\n",
      "578:\tlearn: 0.0269877\ttotal: 4.75s\tremaining: 3.45s\n",
      "579:\tlearn: 0.0269693\ttotal: 4.77s\tremaining: 3.45s\n",
      "580:\tlearn: 0.0269692\ttotal: 4.78s\tremaining: 3.44s\n",
      "581:\tlearn: 0.0269692\ttotal: 4.78s\tremaining: 3.44s\n",
      "582:\tlearn: 0.0269530\ttotal: 4.79s\tremaining: 3.43s\n",
      "583:\tlearn: 0.0269254\ttotal: 4.8s\tremaining: 3.42s\n",
      "584:\tlearn: 0.0269048\ttotal: 4.8s\tremaining: 3.41s\n",
      "585:\tlearn: 0.0268663\ttotal: 4.81s\tremaining: 3.4s\n",
      "586:\tlearn: 0.0268445\ttotal: 4.81s\tremaining: 3.39s\n",
      "587:\tlearn: 0.0268312\ttotal: 4.82s\tremaining: 3.38s\n",
      "588:\tlearn: 0.0267913\ttotal: 4.82s\tremaining: 3.37s\n",
      "589:\tlearn: 0.0267749\ttotal: 4.83s\tremaining: 3.36s\n",
      "590:\tlearn: 0.0267534\ttotal: 4.83s\tremaining: 3.35s\n",
      "591:\tlearn: 0.0267123\ttotal: 4.84s\tremaining: 3.33s\n",
      "592:\tlearn: 0.0266789\ttotal: 4.84s\tremaining: 3.33s\n",
      "593:\tlearn: 0.0266143\ttotal: 4.85s\tremaining: 3.32s\n",
      "594:\tlearn: 0.0266028\ttotal: 4.86s\tremaining: 3.31s\n",
      "595:\tlearn: 0.0265914\ttotal: 4.86s\tremaining: 3.3s\n",
      "596:\tlearn: 0.0265822\ttotal: 4.87s\tremaining: 3.29s\n",
      "597:\tlearn: 0.0265820\ttotal: 4.88s\tremaining: 3.28s\n",
      "598:\tlearn: 0.0265718\ttotal: 4.89s\tremaining: 3.27s\n",
      "599:\tlearn: 0.0265678\ttotal: 4.89s\tremaining: 3.26s\n",
      "600:\tlearn: 0.0265548\ttotal: 4.9s\tremaining: 3.25s\n",
      "601:\tlearn: 0.0265547\ttotal: 4.93s\tremaining: 3.26s\n",
      "602:\tlearn: 0.0265386\ttotal: 4.94s\tremaining: 3.25s\n",
      "603:\tlearn: 0.0265146\ttotal: 4.96s\tremaining: 3.25s\n",
      "604:\tlearn: 0.0264929\ttotal: 4.97s\tremaining: 3.24s\n",
      "605:\tlearn: 0.0264716\ttotal: 4.97s\tremaining: 3.23s\n",
      "606:\tlearn: 0.0264715\ttotal: 4.98s\tremaining: 3.22s\n",
      "607:\tlearn: 0.0264555\ttotal: 4.99s\tremaining: 3.21s\n",
      "608:\tlearn: 0.0264403\ttotal: 4.99s\tremaining: 3.21s\n",
      "609:\tlearn: 0.0264234\ttotal: 5s\tremaining: 3.2s\n",
      "610:\tlearn: 0.0264234\ttotal: 5.01s\tremaining: 3.19s\n",
      "611:\tlearn: 0.0264233\ttotal: 5.02s\tremaining: 3.18s\n",
      "612:\tlearn: 0.0264233\ttotal: 5.04s\tremaining: 3.18s\n",
      "613:\tlearn: 0.0264210\ttotal: 5.04s\tremaining: 3.17s\n",
      "614:\tlearn: 0.0264003\ttotal: 5.05s\tremaining: 3.16s\n",
      "615:\tlearn: 0.0264003\ttotal: 5.05s\tremaining: 3.15s\n",
      "616:\tlearn: 0.0263794\ttotal: 5.06s\tremaining: 3.14s\n",
      "617:\tlearn: 0.0263627\ttotal: 5.06s\tremaining: 3.13s\n",
      "618:\tlearn: 0.0263594\ttotal: 5.07s\tremaining: 3.12s\n",
      "619:\tlearn: 0.0263505\ttotal: 5.07s\tremaining: 3.11s\n",
      "620:\tlearn: 0.0263275\ttotal: 5.08s\tremaining: 3.1s\n",
      "621:\tlearn: 0.0263104\ttotal: 5.08s\tremaining: 3.09s\n",
      "622:\tlearn: 0.0262977\ttotal: 5.08s\tremaining: 3.08s\n",
      "623:\tlearn: 0.0262934\ttotal: 5.09s\tremaining: 3.07s\n",
      "624:\tlearn: 0.0262811\ttotal: 5.09s\tremaining: 3.06s\n",
      "625:\tlearn: 0.0262811\ttotal: 5.1s\tremaining: 3.04s\n",
      "626:\tlearn: 0.0262506\ttotal: 5.1s\tremaining: 3.04s\n",
      "627:\tlearn: 0.0262506\ttotal: 5.11s\tremaining: 3.02s\n",
      "628:\tlearn: 0.0262506\ttotal: 5.11s\tremaining: 3.01s\n",
      "629:\tlearn: 0.0262405\ttotal: 5.12s\tremaining: 3s\n",
      "630:\tlearn: 0.0262211\ttotal: 5.12s\tremaining: 2.99s\n",
      "631:\tlearn: 0.0262032\ttotal: 5.13s\tremaining: 2.98s\n",
      "632:\tlearn: 0.0262032\ttotal: 5.13s\tremaining: 2.97s\n",
      "633:\tlearn: 0.0261838\ttotal: 5.13s\tremaining: 2.96s\n",
      "634:\tlearn: 0.0261838\ttotal: 5.14s\tremaining: 2.95s\n",
      "635:\tlearn: 0.0261447\ttotal: 5.14s\tremaining: 2.94s\n",
      "636:\tlearn: 0.0261279\ttotal: 5.15s\tremaining: 2.93s\n",
      "637:\tlearn: 0.0260659\ttotal: 5.15s\tremaining: 2.92s\n",
      "638:\tlearn: 0.0260311\ttotal: 5.16s\tremaining: 2.91s\n",
      "639:\tlearn: 0.0259942\ttotal: 5.16s\tremaining: 2.9s\n",
      "640:\tlearn: 0.0259507\ttotal: 5.17s\tremaining: 2.9s\n",
      "641:\tlearn: 0.0259503\ttotal: 5.17s\tremaining: 2.88s\n",
      "642:\tlearn: 0.0259394\ttotal: 5.19s\tremaining: 2.88s\n",
      "643:\tlearn: 0.0259394\ttotal: 5.2s\tremaining: 2.87s\n",
      "644:\tlearn: 0.0259230\ttotal: 5.21s\tremaining: 2.87s\n",
      "645:\tlearn: 0.0259226\ttotal: 5.21s\tremaining: 2.85s\n",
      "646:\tlearn: 0.0259086\ttotal: 5.21s\tremaining: 2.85s\n",
      "647:\tlearn: 0.0258893\ttotal: 5.22s\tremaining: 2.83s\n",
      "648:\tlearn: 0.0258745\ttotal: 5.22s\tremaining: 2.83s\n",
      "649:\tlearn: 0.0258624\ttotal: 5.23s\tremaining: 2.82s\n",
      "650:\tlearn: 0.0258277\ttotal: 5.24s\tremaining: 2.81s\n",
      "651:\tlearn: 0.0257918\ttotal: 5.25s\tremaining: 2.8s\n",
      "652:\tlearn: 0.0257918\ttotal: 5.26s\tremaining: 2.79s\n",
      "653:\tlearn: 0.0257535\ttotal: 5.27s\tremaining: 2.79s\n",
      "654:\tlearn: 0.0257100\ttotal: 5.27s\tremaining: 2.78s\n",
      "655:\tlearn: 0.0257100\ttotal: 5.28s\tremaining: 2.77s\n",
      "656:\tlearn: 0.0257020\ttotal: 5.28s\tremaining: 2.76s\n",
      "657:\tlearn: 0.0256859\ttotal: 5.29s\tremaining: 2.75s\n",
      "658:\tlearn: 0.0256858\ttotal: 5.29s\tremaining: 2.74s\n",
      "659:\tlearn: 0.0256554\ttotal: 5.3s\tremaining: 2.73s\n",
      "660:\tlearn: 0.0256554\ttotal: 5.32s\tremaining: 2.73s\n",
      "661:\tlearn: 0.0256554\ttotal: 5.33s\tremaining: 2.72s\n",
      "662:\tlearn: 0.0256554\ttotal: 5.33s\tremaining: 2.71s\n",
      "663:\tlearn: 0.0256554\ttotal: 5.35s\tremaining: 2.71s\n",
      "664:\tlearn: 0.0256554\ttotal: 5.36s\tremaining: 2.7s\n",
      "665:\tlearn: 0.0256410\ttotal: 5.37s\tremaining: 2.69s\n",
      "666:\tlearn: 0.0256409\ttotal: 5.38s\tremaining: 2.69s\n",
      "667:\tlearn: 0.0256409\ttotal: 5.39s\tremaining: 2.68s\n",
      "668:\tlearn: 0.0256405\ttotal: 5.4s\tremaining: 2.67s\n",
      "669:\tlearn: 0.0256402\ttotal: 5.41s\tremaining: 2.66s\n",
      "670:\tlearn: 0.0256341\ttotal: 5.42s\tremaining: 2.66s\n",
      "671:\tlearn: 0.0256340\ttotal: 5.43s\tremaining: 2.65s\n",
      "672:\tlearn: 0.0256340\ttotal: 5.44s\tremaining: 2.65s\n",
      "673:\tlearn: 0.0256340\ttotal: 5.45s\tremaining: 2.64s\n",
      "674:\tlearn: 0.0256341\ttotal: 5.46s\tremaining: 2.63s\n",
      "675:\tlearn: 0.0256340\ttotal: 5.47s\tremaining: 2.62s\n",
      "676:\tlearn: 0.0256212\ttotal: 5.48s\tremaining: 2.62s\n",
      "677:\tlearn: 0.0256175\ttotal: 5.5s\tremaining: 2.61s\n",
      "678:\tlearn: 0.0256062\ttotal: 5.51s\tremaining: 2.6s\n",
      "679:\tlearn: 0.0255903\ttotal: 5.53s\tremaining: 2.6s\n",
      "680:\tlearn: 0.0255902\ttotal: 5.54s\tremaining: 2.6s\n",
      "681:\tlearn: 0.0255652\ttotal: 5.55s\tremaining: 2.59s\n",
      "682:\tlearn: 0.0255530\ttotal: 5.58s\tremaining: 2.59s\n",
      "683:\tlearn: 0.0255364\ttotal: 5.59s\tremaining: 2.58s\n",
      "684:\tlearn: 0.0255109\ttotal: 5.6s\tremaining: 2.58s\n",
      "685:\tlearn: 0.0255052\ttotal: 5.62s\tremaining: 2.57s\n",
      "686:\tlearn: 0.0254908\ttotal: 5.63s\tremaining: 2.57s\n",
      "687:\tlearn: 0.0254868\ttotal: 5.64s\tremaining: 2.56s\n",
      "688:\tlearn: 0.0254851\ttotal: 5.65s\tremaining: 2.55s\n",
      "689:\tlearn: 0.0254850\ttotal: 5.66s\tremaining: 2.54s\n",
      "690:\tlearn: 0.0254850\ttotal: 5.67s\tremaining: 2.53s\n",
      "691:\tlearn: 0.0254850\ttotal: 5.68s\tremaining: 2.53s\n",
      "692:\tlearn: 0.0254850\ttotal: 5.69s\tremaining: 2.52s\n",
      "693:\tlearn: 0.0254849\ttotal: 5.7s\tremaining: 2.51s\n",
      "694:\tlearn: 0.0254782\ttotal: 5.71s\tremaining: 2.5s\n",
      "695:\tlearn: 0.0254732\ttotal: 5.71s\tremaining: 2.5s\n",
      "696:\tlearn: 0.0254529\ttotal: 5.72s\tremaining: 2.49s\n",
      "697:\tlearn: 0.0254256\ttotal: 5.73s\tremaining: 2.48s\n",
      "698:\tlearn: 0.0253999\ttotal: 5.75s\tremaining: 2.47s\n",
      "699:\tlearn: 0.0253999\ttotal: 5.75s\tremaining: 2.47s\n",
      "700:\tlearn: 0.0253998\ttotal: 5.77s\tremaining: 2.46s\n",
      "701:\tlearn: 0.0253997\ttotal: 5.78s\tremaining: 2.45s\n",
      "702:\tlearn: 0.0253997\ttotal: 5.79s\tremaining: 2.44s\n",
      "703:\tlearn: 0.0253733\ttotal: 5.8s\tremaining: 2.44s\n",
      "704:\tlearn: 0.0253579\ttotal: 5.81s\tremaining: 2.43s\n",
      "705:\tlearn: 0.0253419\ttotal: 5.82s\tremaining: 2.42s\n",
      "706:\tlearn: 0.0253418\ttotal: 5.83s\tremaining: 2.42s\n",
      "707:\tlearn: 0.0253418\ttotal: 5.84s\tremaining: 2.41s\n",
      "708:\tlearn: 0.0253418\ttotal: 5.85s\tremaining: 2.4s\n",
      "709:\tlearn: 0.0253417\ttotal: 5.86s\tremaining: 2.4s\n",
      "710:\tlearn: 0.0253415\ttotal: 5.88s\tremaining: 2.39s\n",
      "711:\tlearn: 0.0253415\ttotal: 5.88s\tremaining: 2.38s\n",
      "712:\tlearn: 0.0253414\ttotal: 5.89s\tremaining: 2.37s\n",
      "713:\tlearn: 0.0253414\ttotal: 5.9s\tremaining: 2.37s\n",
      "714:\tlearn: 0.0253414\ttotal: 5.92s\tremaining: 2.36s\n",
      "715:\tlearn: 0.0253414\ttotal: 5.93s\tremaining: 2.35s\n",
      "716:\tlearn: 0.0253414\ttotal: 5.94s\tremaining: 2.35s\n",
      "717:\tlearn: 0.0253413\ttotal: 5.95s\tremaining: 2.34s\n",
      "718:\tlearn: 0.0253413\ttotal: 5.96s\tremaining: 2.33s\n",
      "719:\tlearn: 0.0253413\ttotal: 5.97s\tremaining: 2.32s\n",
      "720:\tlearn: 0.0253413\ttotal: 5.98s\tremaining: 2.31s\n",
      "721:\tlearn: 0.0253299\ttotal: 5.99s\tremaining: 2.31s\n",
      "722:\tlearn: 0.0253299\ttotal: 6s\tremaining: 2.3s\n",
      "723:\tlearn: 0.0253213\ttotal: 6.01s\tremaining: 2.29s\n",
      "724:\tlearn: 0.0253213\ttotal: 6.01s\tremaining: 2.28s\n",
      "725:\tlearn: 0.0253213\ttotal: 6.03s\tremaining: 2.28s\n",
      "726:\tlearn: 0.0253210\ttotal: 6.04s\tremaining: 2.27s\n",
      "727:\tlearn: 0.0253209\ttotal: 6.05s\tremaining: 2.26s\n",
      "728:\tlearn: 0.0253208\ttotal: 6.06s\tremaining: 2.25s\n",
      "729:\tlearn: 0.0253076\ttotal: 6.07s\tremaining: 2.25s\n",
      "730:\tlearn: 0.0253037\ttotal: 6.08s\tremaining: 2.24s\n",
      "731:\tlearn: 0.0252795\ttotal: 6.09s\tremaining: 2.23s\n",
      "732:\tlearn: 0.0252616\ttotal: 6.1s\tremaining: 2.22s\n",
      "733:\tlearn: 0.0252356\ttotal: 6.11s\tremaining: 2.21s\n",
      "734:\tlearn: 0.0252356\ttotal: 6.12s\tremaining: 2.21s\n",
      "735:\tlearn: 0.0252186\ttotal: 6.13s\tremaining: 2.2s\n",
      "736:\tlearn: 0.0252078\ttotal: 6.14s\tremaining: 2.19s\n",
      "737:\tlearn: 0.0252077\ttotal: 6.15s\tremaining: 2.18s\n",
      "738:\tlearn: 0.0252077\ttotal: 6.16s\tremaining: 2.17s\n",
      "739:\tlearn: 0.0252074\ttotal: 6.17s\tremaining: 2.17s\n",
      "740:\tlearn: 0.0252074\ttotal: 6.17s\tremaining: 2.16s\n",
      "741:\tlearn: 0.0252074\ttotal: 6.18s\tremaining: 2.15s\n",
      "742:\tlearn: 0.0252074\ttotal: 6.19s\tremaining: 2.14s\n",
      "743:\tlearn: 0.0252074\ttotal: 6.2s\tremaining: 2.13s\n",
      "744:\tlearn: 0.0252074\ttotal: 6.21s\tremaining: 2.12s\n",
      "745:\tlearn: 0.0252074\ttotal: 6.21s\tremaining: 2.12s\n",
      "746:\tlearn: 0.0252073\ttotal: 6.22s\tremaining: 2.11s\n",
      "747:\tlearn: 0.0251936\ttotal: 6.23s\tremaining: 2.1s\n",
      "748:\tlearn: 0.0251508\ttotal: 6.25s\tremaining: 2.09s\n",
      "749:\tlearn: 0.0251037\ttotal: 6.26s\tremaining: 2.09s\n",
      "750:\tlearn: 0.0250881\ttotal: 6.27s\tremaining: 2.08s\n",
      "751:\tlearn: 0.0250509\ttotal: 6.28s\tremaining: 2.07s\n",
      "752:\tlearn: 0.0250298\ttotal: 6.29s\tremaining: 2.06s\n",
      "753:\tlearn: 0.0249813\ttotal: 6.3s\tremaining: 2.06s\n",
      "754:\tlearn: 0.0249692\ttotal: 6.32s\tremaining: 2.05s\n",
      "755:\tlearn: 0.0249570\ttotal: 6.33s\tremaining: 2.04s\n",
      "756:\tlearn: 0.0249567\ttotal: 6.33s\tremaining: 2.03s\n",
      "757:\tlearn: 0.0249567\ttotal: 6.35s\tremaining: 2.03s\n",
      "758:\tlearn: 0.0249566\ttotal: 6.36s\tremaining: 2.02s\n",
      "759:\tlearn: 0.0249566\ttotal: 6.36s\tremaining: 2.01s\n",
      "760:\tlearn: 0.0249566\ttotal: 6.37s\tremaining: 2s\n",
      "761:\tlearn: 0.0249565\ttotal: 6.38s\tremaining: 1.99s\n",
      "762:\tlearn: 0.0249565\ttotal: 6.39s\tremaining: 1.99s\n",
      "763:\tlearn: 0.0249565\ttotal: 6.4s\tremaining: 1.98s\n",
      "764:\tlearn: 0.0249564\ttotal: 6.41s\tremaining: 1.97s\n",
      "765:\tlearn: 0.0249564\ttotal: 6.42s\tremaining: 1.96s\n",
      "766:\tlearn: 0.0249564\ttotal: 6.43s\tremaining: 1.95s\n",
      "767:\tlearn: 0.0249562\ttotal: 6.46s\tremaining: 1.95s\n",
      "768:\tlearn: 0.0249562\ttotal: 6.46s\tremaining: 1.94s\n",
      "769:\tlearn: 0.0249562\ttotal: 6.47s\tremaining: 1.93s\n",
      "770:\tlearn: 0.0249561\ttotal: 6.48s\tremaining: 1.92s\n",
      "771:\tlearn: 0.0249375\ttotal: 6.49s\tremaining: 1.92s\n",
      "772:\tlearn: 0.0249374\ttotal: 6.5s\tremaining: 1.91s\n",
      "773:\tlearn: 0.0249374\ttotal: 6.51s\tremaining: 1.9s\n",
      "774:\tlearn: 0.0249343\ttotal: 6.52s\tremaining: 1.89s\n",
      "775:\tlearn: 0.0249343\ttotal: 6.52s\tremaining: 1.88s\n",
      "776:\tlearn: 0.0249343\ttotal: 6.53s\tremaining: 1.87s\n",
      "777:\tlearn: 0.0249343\ttotal: 6.54s\tremaining: 1.87s\n",
      "778:\tlearn: 0.0249341\ttotal: 6.58s\tremaining: 1.87s\n",
      "779:\tlearn: 0.0249233\ttotal: 6.59s\tremaining: 1.86s\n",
      "780:\tlearn: 0.0249233\ttotal: 6.59s\tremaining: 1.85s\n",
      "781:\tlearn: 0.0249232\ttotal: 6.6s\tremaining: 1.84s\n",
      "782:\tlearn: 0.0249232\ttotal: 6.61s\tremaining: 1.83s\n",
      "783:\tlearn: 0.0249231\ttotal: 6.62s\tremaining: 1.82s\n",
      "784:\tlearn: 0.0249231\ttotal: 6.64s\tremaining: 1.82s\n",
      "785:\tlearn: 0.0249232\ttotal: 6.64s\tremaining: 1.81s\n",
      "786:\tlearn: 0.0249231\ttotal: 6.65s\tremaining: 1.8s\n",
      "787:\tlearn: 0.0249231\ttotal: 6.66s\tremaining: 1.79s\n",
      "788:\tlearn: 0.0249230\ttotal: 6.67s\tremaining: 1.78s\n",
      "789:\tlearn: 0.0249230\ttotal: 6.68s\tremaining: 1.78s\n",
      "790:\tlearn: 0.0249230\ttotal: 6.69s\tremaining: 1.77s\n",
      "791:\tlearn: 0.0249230\ttotal: 6.7s\tremaining: 1.76s\n",
      "792:\tlearn: 0.0249107\ttotal: 6.71s\tremaining: 1.75s\n",
      "793:\tlearn: 0.0249107\ttotal: 6.71s\tremaining: 1.74s\n",
      "794:\tlearn: 0.0249106\ttotal: 6.72s\tremaining: 1.73s\n",
      "795:\tlearn: 0.0249105\ttotal: 6.73s\tremaining: 1.73s\n",
      "796:\tlearn: 0.0249105\ttotal: 6.74s\tremaining: 1.72s\n",
      "797:\tlearn: 0.0249106\ttotal: 6.75s\tremaining: 1.71s\n",
      "798:\tlearn: 0.0249105\ttotal: 6.76s\tremaining: 1.7s\n",
      "799:\tlearn: 0.0249105\ttotal: 6.76s\tremaining: 1.69s\n",
      "800:\tlearn: 0.0249105\ttotal: 6.77s\tremaining: 1.68s\n",
      "801:\tlearn: 0.0249105\ttotal: 6.78s\tremaining: 1.67s\n",
      "802:\tlearn: 0.0249105\ttotal: 6.79s\tremaining: 1.67s\n",
      "803:\tlearn: 0.0249105\ttotal: 6.8s\tremaining: 1.66s\n",
      "804:\tlearn: 0.0249079\ttotal: 6.81s\tremaining: 1.65s\n",
      "805:\tlearn: 0.0249079\ttotal: 6.82s\tremaining: 1.64s\n",
      "806:\tlearn: 0.0248925\ttotal: 6.83s\tremaining: 1.63s\n",
      "807:\tlearn: 0.0248925\ttotal: 6.83s\tremaining: 1.62s\n",
      "808:\tlearn: 0.0248925\ttotal: 6.84s\tremaining: 1.62s\n",
      "809:\tlearn: 0.0248925\ttotal: 6.85s\tremaining: 1.61s\n",
      "810:\tlearn: 0.0248812\ttotal: 6.86s\tremaining: 1.6s\n",
      "811:\tlearn: 0.0248663\ttotal: 6.88s\tremaining: 1.59s\n",
      "812:\tlearn: 0.0248662\ttotal: 6.88s\tremaining: 1.58s\n",
      "813:\tlearn: 0.0248660\ttotal: 6.89s\tremaining: 1.57s\n",
      "814:\tlearn: 0.0248660\ttotal: 6.9s\tremaining: 1.57s\n",
      "815:\tlearn: 0.0248660\ttotal: 6.91s\tremaining: 1.56s\n",
      "816:\tlearn: 0.0248659\ttotal: 6.92s\tremaining: 1.55s\n",
      "817:\tlearn: 0.0248660\ttotal: 6.92s\tremaining: 1.54s\n",
      "818:\tlearn: 0.0248659\ttotal: 6.93s\tremaining: 1.53s\n",
      "819:\tlearn: 0.0248659\ttotal: 6.95s\tremaining: 1.52s\n",
      "820:\tlearn: 0.0248625\ttotal: 6.96s\tremaining: 1.52s\n",
      "821:\tlearn: 0.0248625\ttotal: 6.97s\tremaining: 1.51s\n",
      "822:\tlearn: 0.0248625\ttotal: 6.98s\tremaining: 1.5s\n",
      "823:\tlearn: 0.0248625\ttotal: 6.98s\tremaining: 1.49s\n",
      "824:\tlearn: 0.0248624\ttotal: 6.99s\tremaining: 1.48s\n",
      "825:\tlearn: 0.0248624\ttotal: 7s\tremaining: 1.47s\n",
      "826:\tlearn: 0.0248624\ttotal: 7.01s\tremaining: 1.47s\n",
      "827:\tlearn: 0.0248540\ttotal: 7.02s\tremaining: 1.46s\n",
      "828:\tlearn: 0.0248539\ttotal: 7.03s\tremaining: 1.45s\n",
      "829:\tlearn: 0.0248539\ttotal: 7.03s\tremaining: 1.44s\n",
      "830:\tlearn: 0.0248539\ttotal: 7.04s\tremaining: 1.43s\n",
      "831:\tlearn: 0.0248539\ttotal: 7.05s\tremaining: 1.42s\n",
      "832:\tlearn: 0.0248539\ttotal: 7.06s\tremaining: 1.42s\n",
      "833:\tlearn: 0.0248539\ttotal: 7.07s\tremaining: 1.41s\n",
      "834:\tlearn: 0.0248538\ttotal: 7.08s\tremaining: 1.4s\n",
      "835:\tlearn: 0.0248538\ttotal: 7.08s\tremaining: 1.39s\n",
      "836:\tlearn: 0.0248538\ttotal: 7.09s\tremaining: 1.38s\n",
      "837:\tlearn: 0.0248538\ttotal: 7.1s\tremaining: 1.37s\n",
      "838:\tlearn: 0.0248537\ttotal: 7.11s\tremaining: 1.36s\n",
      "839:\tlearn: 0.0248537\ttotal: 7.12s\tremaining: 1.35s\n",
      "840:\tlearn: 0.0248538\ttotal: 7.13s\tremaining: 1.35s\n",
      "841:\tlearn: 0.0248537\ttotal: 7.13s\tremaining: 1.34s\n",
      "842:\tlearn: 0.0248537\ttotal: 7.14s\tremaining: 1.33s\n",
      "843:\tlearn: 0.0248536\ttotal: 7.15s\tremaining: 1.32s\n",
      "844:\tlearn: 0.0248536\ttotal: 7.16s\tremaining: 1.31s\n",
      "845:\tlearn: 0.0248536\ttotal: 7.17s\tremaining: 1.31s\n",
      "846:\tlearn: 0.0248536\ttotal: 7.18s\tremaining: 1.3s\n",
      "847:\tlearn: 0.0248536\ttotal: 7.19s\tremaining: 1.29s\n",
      "848:\tlearn: 0.0248535\ttotal: 7.21s\tremaining: 1.28s\n",
      "849:\tlearn: 0.0248535\ttotal: 7.22s\tremaining: 1.27s\n",
      "850:\tlearn: 0.0248534\ttotal: 7.23s\tremaining: 1.26s\n",
      "851:\tlearn: 0.0248534\ttotal: 7.25s\tremaining: 1.26s\n",
      "852:\tlearn: 0.0248533\ttotal: 7.27s\tremaining: 1.25s\n",
      "853:\tlearn: 0.0248534\ttotal: 7.27s\tremaining: 1.24s\n",
      "854:\tlearn: 0.0248533\ttotal: 7.28s\tremaining: 1.24s\n",
      "855:\tlearn: 0.0248532\ttotal: 7.29s\tremaining: 1.23s\n",
      "856:\tlearn: 0.0248533\ttotal: 7.3s\tremaining: 1.22s\n",
      "857:\tlearn: 0.0248532\ttotal: 7.31s\tremaining: 1.21s\n",
      "858:\tlearn: 0.0248532\ttotal: 7.32s\tremaining: 1.2s\n",
      "859:\tlearn: 0.0248532\ttotal: 7.34s\tremaining: 1.2s\n",
      "860:\tlearn: 0.0248532\ttotal: 7.36s\tremaining: 1.19s\n",
      "861:\tlearn: 0.0248332\ttotal: 7.37s\tremaining: 1.18s\n",
      "862:\tlearn: 0.0248332\ttotal: 7.37s\tremaining: 1.17s\n",
      "863:\tlearn: 0.0248203\ttotal: 7.38s\tremaining: 1.16s\n",
      "864:\tlearn: 0.0248183\ttotal: 7.39s\tremaining: 1.15s\n",
      "865:\tlearn: 0.0247978\ttotal: 7.4s\tremaining: 1.15s\n",
      "866:\tlearn: 0.0247848\ttotal: 7.41s\tremaining: 1.14s\n",
      "867:\tlearn: 0.0247847\ttotal: 7.42s\tremaining: 1.13s\n",
      "868:\tlearn: 0.0247848\ttotal: 7.43s\tremaining: 1.12s\n",
      "869:\tlearn: 0.0247847\ttotal: 7.44s\tremaining: 1.11s\n",
      "870:\tlearn: 0.0247847\ttotal: 7.45s\tremaining: 1.1s\n",
      "871:\tlearn: 0.0247846\ttotal: 7.46s\tremaining: 1.09s\n",
      "872:\tlearn: 0.0247847\ttotal: 7.48s\tremaining: 1.09s\n",
      "873:\tlearn: 0.0247846\ttotal: 7.5s\tremaining: 1.08s\n",
      "874:\tlearn: 0.0247847\ttotal: 7.5s\tremaining: 1.07s\n",
      "875:\tlearn: 0.0247846\ttotal: 7.51s\tremaining: 1.06s\n",
      "876:\tlearn: 0.0247846\ttotal: 7.53s\tremaining: 1.05s\n",
      "877:\tlearn: 0.0247846\ttotal: 7.54s\tremaining: 1.05s\n",
      "878:\tlearn: 0.0247845\ttotal: 7.55s\tremaining: 1.04s\n",
      "879:\tlearn: 0.0247845\ttotal: 7.56s\tremaining: 1.03s\n",
      "880:\tlearn: 0.0247845\ttotal: 7.57s\tremaining: 1.02s\n",
      "881:\tlearn: 0.0247843\ttotal: 7.59s\tremaining: 1.01s\n",
      "882:\tlearn: 0.0247843\ttotal: 7.59s\tremaining: 1.01s\n",
      "883:\tlearn: 0.0247842\ttotal: 7.61s\tremaining: 998ms\n",
      "884:\tlearn: 0.0247843\ttotal: 7.62s\tremaining: 990ms\n",
      "885:\tlearn: 0.0247843\ttotal: 7.63s\tremaining: 981ms\n",
      "886:\tlearn: 0.0247843\ttotal: 7.63s\tremaining: 972ms\n",
      "887:\tlearn: 0.0247843\ttotal: 7.64s\tremaining: 964ms\n",
      "888:\tlearn: 0.0247840\ttotal: 7.66s\tremaining: 957ms\n",
      "889:\tlearn: 0.0247840\ttotal: 7.67s\tremaining: 948ms\n",
      "890:\tlearn: 0.0247840\ttotal: 7.69s\tremaining: 941ms\n",
      "891:\tlearn: 0.0247839\ttotal: 7.71s\tremaining: 933ms\n",
      "892:\tlearn: 0.0247840\ttotal: 7.72s\tremaining: 925ms\n",
      "893:\tlearn: 0.0247839\ttotal: 7.74s\tremaining: 918ms\n",
      "894:\tlearn: 0.0247839\ttotal: 7.75s\tremaining: 909ms\n",
      "895:\tlearn: 0.0247840\ttotal: 7.76s\tremaining: 900ms\n",
      "896:\tlearn: 0.0247838\ttotal: 7.76s\tremaining: 892ms\n",
      "897:\tlearn: 0.0247780\ttotal: 7.77s\tremaining: 883ms\n",
      "898:\tlearn: 0.0247603\ttotal: 7.78s\tremaining: 874ms\n",
      "899:\tlearn: 0.0247603\ttotal: 7.79s\tremaining: 866ms\n",
      "900:\tlearn: 0.0247310\ttotal: 7.8s\tremaining: 857ms\n",
      "901:\tlearn: 0.0247310\ttotal: 7.81s\tremaining: 849ms\n",
      "902:\tlearn: 0.0247310\ttotal: 7.82s\tremaining: 840ms\n",
      "903:\tlearn: 0.0247310\ttotal: 7.83s\tremaining: 831ms\n",
      "904:\tlearn: 0.0247310\ttotal: 7.84s\tremaining: 823ms\n",
      "905:\tlearn: 0.0247309\ttotal: 7.84s\tremaining: 814ms\n",
      "906:\tlearn: 0.0247309\ttotal: 7.85s\tremaining: 805ms\n",
      "907:\tlearn: 0.0247307\ttotal: 7.86s\tremaining: 797ms\n",
      "908:\tlearn: 0.0247305\ttotal: 7.87s\tremaining: 788ms\n",
      "909:\tlearn: 0.0247305\ttotal: 7.88s\tremaining: 779ms\n",
      "910:\tlearn: 0.0247305\ttotal: 7.89s\tremaining: 770ms\n",
      "911:\tlearn: 0.0247305\ttotal: 7.89s\tremaining: 762ms\n",
      "912:\tlearn: 0.0247305\ttotal: 7.9s\tremaining: 753ms\n",
      "913:\tlearn: 0.0247305\ttotal: 7.92s\tremaining: 745ms\n",
      "914:\tlearn: 0.0247117\ttotal: 7.93s\tremaining: 737ms\n",
      "915:\tlearn: 0.0247116\ttotal: 7.94s\tremaining: 728ms\n",
      "916:\tlearn: 0.0247117\ttotal: 7.94s\tremaining: 719ms\n",
      "917:\tlearn: 0.0247114\ttotal: 7.95s\tremaining: 710ms\n",
      "918:\tlearn: 0.0247113\ttotal: 7.96s\tremaining: 702ms\n",
      "919:\tlearn: 0.0247113\ttotal: 7.98s\tremaining: 694ms\n",
      "920:\tlearn: 0.0247113\ttotal: 7.99s\tremaining: 685ms\n",
      "921:\tlearn: 0.0247113\ttotal: 8s\tremaining: 677ms\n",
      "922:\tlearn: 0.0247113\ttotal: 8.01s\tremaining: 668ms\n",
      "923:\tlearn: 0.0247110\ttotal: 8.02s\tremaining: 659ms\n",
      "924:\tlearn: 0.0247109\ttotal: 8.03s\tremaining: 651ms\n",
      "925:\tlearn: 0.0247109\ttotal: 8.04s\tremaining: 643ms\n",
      "926:\tlearn: 0.0247109\ttotal: 8.05s\tremaining: 634ms\n",
      "927:\tlearn: 0.0247108\ttotal: 8.06s\tremaining: 625ms\n",
      "928:\tlearn: 0.0247107\ttotal: 8.09s\tremaining: 618ms\n",
      "929:\tlearn: 0.0247107\ttotal: 8.1s\tremaining: 610ms\n",
      "930:\tlearn: 0.0247106\ttotal: 8.11s\tremaining: 601ms\n",
      "931:\tlearn: 0.0247105\ttotal: 8.12s\tremaining: 592ms\n",
      "932:\tlearn: 0.0247105\ttotal: 8.13s\tremaining: 584ms\n",
      "933:\tlearn: 0.0247104\ttotal: 8.13s\tremaining: 575ms\n",
      "934:\tlearn: 0.0247104\ttotal: 8.14s\tremaining: 566ms\n",
      "935:\tlearn: 0.0247104\ttotal: 8.16s\tremaining: 558ms\n",
      "936:\tlearn: 0.0247105\ttotal: 8.17s\tremaining: 549ms\n",
      "937:\tlearn: 0.0247102\ttotal: 8.18s\tremaining: 540ms\n",
      "938:\tlearn: 0.0247102\ttotal: 8.18s\tremaining: 532ms\n",
      "939:\tlearn: 0.0247037\ttotal: 8.19s\tremaining: 523ms\n",
      "940:\tlearn: 0.0246897\ttotal: 8.21s\tremaining: 514ms\n",
      "941:\tlearn: 0.0246896\ttotal: 8.21s\tremaining: 506ms\n",
      "942:\tlearn: 0.0246896\ttotal: 8.22s\tremaining: 497ms\n",
      "943:\tlearn: 0.0246896\ttotal: 8.23s\tremaining: 488ms\n",
      "944:\tlearn: 0.0246896\ttotal: 8.24s\tremaining: 479ms\n",
      "945:\tlearn: 0.0246896\ttotal: 8.24s\tremaining: 471ms\n",
      "946:\tlearn: 0.0246896\ttotal: 8.25s\tremaining: 462ms\n",
      "947:\tlearn: 0.0246896\ttotal: 8.26s\tremaining: 453ms\n",
      "948:\tlearn: 0.0246896\ttotal: 8.27s\tremaining: 444ms\n",
      "949:\tlearn: 0.0246896\ttotal: 8.28s\tremaining: 436ms\n",
      "950:\tlearn: 0.0246896\ttotal: 8.29s\tremaining: 427ms\n",
      "951:\tlearn: 0.0246895\ttotal: 8.31s\tremaining: 419ms\n",
      "952:\tlearn: 0.0246895\ttotal: 8.32s\tremaining: 410ms\n",
      "953:\tlearn: 0.0246894\ttotal: 8.33s\tremaining: 401ms\n",
      "954:\tlearn: 0.0246894\ttotal: 8.33s\tremaining: 393ms\n",
      "955:\tlearn: 0.0246894\ttotal: 8.34s\tremaining: 384ms\n",
      "956:\tlearn: 0.0246893\ttotal: 8.35s\tremaining: 375ms\n",
      "957:\tlearn: 0.0246893\ttotal: 8.36s\tremaining: 366ms\n",
      "958:\tlearn: 0.0246893\ttotal: 8.37s\tremaining: 358ms\n",
      "959:\tlearn: 0.0246893\ttotal: 8.38s\tremaining: 349ms\n",
      "960:\tlearn: 0.0246892\ttotal: 8.39s\tremaining: 340ms\n",
      "961:\tlearn: 0.0246892\ttotal: 8.4s\tremaining: 332ms\n",
      "962:\tlearn: 0.0246892\ttotal: 8.4s\tremaining: 323ms\n",
      "963:\tlearn: 0.0246891\ttotal: 8.41s\tremaining: 314ms\n",
      "964:\tlearn: 0.0246891\ttotal: 8.42s\tremaining: 306ms\n",
      "965:\tlearn: 0.0246891\ttotal: 8.43s\tremaining: 297ms\n",
      "966:\tlearn: 0.0246891\ttotal: 8.44s\tremaining: 288ms\n",
      "967:\tlearn: 0.0246890\ttotal: 8.46s\tremaining: 280ms\n",
      "968:\tlearn: 0.0246890\ttotal: 8.47s\tremaining: 271ms\n",
      "969:\tlearn: 0.0246891\ttotal: 8.49s\tremaining: 263ms\n",
      "970:\tlearn: 0.0246890\ttotal: 8.5s\tremaining: 254ms\n",
      "971:\tlearn: 0.0246890\ttotal: 8.51s\tremaining: 245ms\n",
      "972:\tlearn: 0.0246632\ttotal: 8.52s\tremaining: 236ms\n",
      "973:\tlearn: 0.0246367\ttotal: 8.53s\tremaining: 228ms\n",
      "974:\tlearn: 0.0246246\ttotal: 8.54s\tremaining: 219ms\n",
      "975:\tlearn: 0.0246131\ttotal: 8.55s\tremaining: 210ms\n",
      "976:\tlearn: 0.0246131\ttotal: 8.55s\tremaining: 201ms\n",
      "977:\tlearn: 0.0246130\ttotal: 8.57s\tremaining: 193ms\n",
      "978:\tlearn: 0.0246129\ttotal: 8.57s\tremaining: 184ms\n",
      "979:\tlearn: 0.0246129\ttotal: 8.58s\tremaining: 175ms\n",
      "980:\tlearn: 0.0246128\ttotal: 8.61s\tremaining: 167ms\n",
      "981:\tlearn: 0.0246128\ttotal: 8.63s\tremaining: 158ms\n",
      "982:\tlearn: 0.0246128\ttotal: 8.64s\tremaining: 149ms\n",
      "983:\tlearn: 0.0246128\ttotal: 8.64s\tremaining: 141ms\n",
      "984:\tlearn: 0.0246128\ttotal: 8.65s\tremaining: 132ms\n",
      "985:\tlearn: 0.0246126\ttotal: 8.66s\tremaining: 123ms\n",
      "986:\tlearn: 0.0246126\ttotal: 8.67s\tremaining: 114ms\n",
      "987:\tlearn: 0.0246126\ttotal: 8.68s\tremaining: 105ms\n",
      "988:\tlearn: 0.0246126\ttotal: 8.69s\tremaining: 96.6ms\n",
      "989:\tlearn: 0.0246125\ttotal: 8.7s\tremaining: 87.9ms\n",
      "990:\tlearn: 0.0246125\ttotal: 8.71s\tremaining: 79.1ms\n",
      "991:\tlearn: 0.0246125\ttotal: 8.72s\tremaining: 70.3ms\n",
      "992:\tlearn: 0.0246125\ttotal: 8.73s\tremaining: 61.5ms\n",
      "993:\tlearn: 0.0246124\ttotal: 8.74s\tremaining: 52.7ms\n",
      "994:\tlearn: 0.0245995\ttotal: 8.75s\tremaining: 44ms\n",
      "995:\tlearn: 0.0245994\ttotal: 8.76s\tremaining: 35.2ms\n",
      "996:\tlearn: 0.0245995\ttotal: 8.77s\tremaining: 26.4ms\n",
      "997:\tlearn: 0.0245995\ttotal: 8.78s\tremaining: 17.6ms\n",
      "998:\tlearn: 0.0245994\ttotal: 8.78s\tremaining: 8.79ms\n",
      "999:\tlearn: 0.0245994\ttotal: 8.79s\tremaining: 0us\n"
     ]
    },
    {
     "data": {
      "text/plain": [
       "<catboost.core.CatBoostClassifier at 0x21a34899fd0>"
      ]
     },
     "execution_count": 54,
     "metadata": {},
     "output_type": "execute_result"
    }
   ],
   "source": [
    "#  catboost Classifier Model\n",
    "from catboost import CatBoostClassifier\n",
    "\n",
    "# instantiate the model\n",
    "cat = CatBoostClassifier(learning_rate  = 0.1)\n",
    "\n",
    "# fit the model \n",
    "cat.fit(X_train,y_train)"
   ]
  },
  {
   "cell_type": "code",
   "execution_count": 55,
   "id": "2353cb47",
   "metadata": {},
   "outputs": [],
   "source": [
    "#predicting the target value from the model for the samples\n",
    "y_train_cat = cat.predict(X_train)\n",
    "y_test_cat = cat.predict(X_test)\n"
   ]
  },
  {
   "cell_type": "code",
   "execution_count": 56,
   "id": "d6cc2cf5",
   "metadata": {},
   "outputs": [
    {
     "name": "stdout",
     "output_type": "stream",
     "text": [
      "CatBoost Classifier : Accuracy on training Data: 0.991\n",
      "CatBoost Classifier : Accuracy on test Data: 0.972\n",
      "\n",
      "CatBoost Classifier : f1_score on training Data: 0.992\n",
      "CatBoost Classifier : f1_score on test Data: 0.975\n",
      "\n",
      "CatBoost Classifier : Recall on training Data: 0.994\n",
      "CatBoost Classifier : Recall on test Data: 0.982\n",
      "\n",
      "CatBoost Classifier : precision on training Data: 0.989\n",
      "CatBoost Classifier : precision on test Data: 0.969\n"
     ]
    }
   ],
   "source": [
    "#computing the accuracy, f1_score, Recall, precision of the model performance\n",
    "\n",
    "acc_train_cat  = metrics.accuracy_score(y_train,y_train_cat)\n",
    "acc_test_cat = metrics.accuracy_score(y_test,y_test_cat)\n",
    "print(\"CatBoost Classifier : Accuracy on training Data: {:.3f}\".format(acc_train_cat))\n",
    "print(\"CatBoost Classifier : Accuracy on test Data: {:.3f}\".format(acc_test_cat))\n",
    "print()\n",
    "\n",
    "f1_score_train_cat = metrics.f1_score(y_train,y_train_cat)\n",
    "f1_score_test_cat = metrics.f1_score(y_test,y_test_cat)\n",
    "print(\"CatBoost Classifier : f1_score on training Data: {:.3f}\".format(f1_score_train_cat))\n",
    "print(\"CatBoost Classifier : f1_score on test Data: {:.3f}\".format(f1_score_test_cat))\n",
    "print()\n",
    "\n",
    "recall_score_train_cat = metrics.recall_score(y_train,y_train_cat)\n",
    "recall_score_test_cat = metrics.recall_score(y_test,y_test_cat)\n",
    "print(\"CatBoost Classifier : Recall on training Data: {:.3f}\".format(recall_score_train_cat))\n",
    "print(\"CatBoost Classifier : Recall on test Data: {:.3f}\".format(recall_score_test_cat))\n",
    "print()\n",
    "\n",
    "precision_score_train_cat = metrics.precision_score(y_train,y_train_cat)\n",
    "precision_score_test_cat = metrics.precision_score(y_test,y_test_cat)\n",
    "print(\"CatBoost Classifier : precision on training Data: {:.3f}\".format(precision_score_train_cat))\n",
    "print(\"CatBoost Classifier : precision on test Data: {:.3f}\".format(precision_score_test_cat))"
   ]
  },
  {
   "cell_type": "code",
   "execution_count": 57,
   "id": "b88154b6",
   "metadata": {},
   "outputs": [
    {
     "name": "stdout",
     "output_type": "stream",
     "text": [
      "              precision    recall  f1-score   support\n",
      "\n",
      "          -1       0.98      0.96      0.97       976\n",
      "           1       0.97      0.98      0.98      1235\n",
      "\n",
      "    accuracy                           0.97      2211\n",
      "   macro avg       0.97      0.97      0.97      2211\n",
      "weighted avg       0.97      0.97      0.97      2211\n",
      "\n"
     ]
    }
   ],
   "source": [
    "#computing the classification report of the model\n",
    "\n",
    "print(metrics.classification_report(y_test, y_test_cat))"
   ]
  },
  {
   "cell_type": "code",
   "execution_count": 58,
   "id": "53d13ba8",
   "metadata": {},
   "outputs": [
    {
     "data": {
      "image/png": "[encoded data removed]",
      "text/plain": [
       "<Figure size 432x288 with 1 Axes>"
      ]
     },
     "metadata": {
      "needs_background": "light"
     },
     "output_type": "display_data"
    }
   ],
   "source": [
    "\n",
    "#plotting the training & testing accuracy for n_estimators from 1 to 50\n",
    "plt.figure(figsize=None)\n",
    "plt.plot(depth, training_accuracy, label=\"training accuracy\")\n",
    "plt.plot(depth, test_accuracy, label=\"test accuracy\")\n",
    "plt.ylabel(\"Accuracy\")  \n",
    "plt.xlabel(\"learning_rate\")\n",
    "plt.legend();"
   ]
  },
  {
   "cell_type": "code",
   "execution_count": 59,
   "id": "080959b7",
   "metadata": {},
   "outputs": [],
   "source": [
    "#storing the results. The below mentioned order of parameter passing is important.\n",
    "\n",
    "storeResults('CatBoost Classifier',acc_test_cat,f1_score_test_cat,\n",
    "             recall_score_train_cat,precision_score_train_cat)"
   ]
  },
  {
   "cell_type": "markdown",
   "id": "85e3d3e0",
   "metadata": {},
   "source": [
    "XGBoost Classifier\n",
    "\n"
   ]
  },
  {
   "cell_type": "code",
   "execution_count": 65,
   "id": "b340bc9b",
   "metadata": {},
   "outputs": [
    {
     "name": "stdout",
     "output_type": "stream",
     "text": [
      "[13:45:31] WARNING: C:/Users/Administrator/workspace/xgboost-win64_release_1.5.1/src/learner.cc:1115: Starting in XGBoost 1.3.0, the default evaluation metric used with the objective 'binary:logistic' was changed from 'error' to 'logloss'. Explicitly set eval_metric if you'd like to restore the old behavior.\n"
     ]
    },
    {
     "data": {
      "text/plain": [
       "XGBClassifier(base_score=0.5, booster='gbtree', colsample_bylevel=1,\n",
       "              colsample_bynode=1, colsample_bytree=1, enable_categorical=False,\n",
       "              gamma=0, gpu_id=-1, importance_type=None,\n",
       "              interaction_constraints='', learning_rate=0.300000012,\n",
       "              max_delta_step=0, max_depth=6, min_child_weight=1, missing=nan,\n",
       "              monotone_constraints='()', n_estimators=100, n_jobs=8,\n",
       "              num_parallel_tree=1, predictor='auto', random_state=0,\n",
       "              reg_alpha=0, reg_lambda=1, scale_pos_weight=1, subsample=1,\n",
       "              tree_method='exact', validate_parameters=1, verbosity=None)"
      ]
     },
     "execution_count": 65,
     "metadata": {},
     "output_type": "execute_result"
    }
   ],
   "source": [
    "#  XGBoost Classifier Model\n",
    "from xgboost import XGBClassifier\n",
    "\n",
    "# instantiate the model\n",
    "xgb = XGBClassifier()\n",
    "\n",
    "# fit the model \n",
    "xgb.fit(X_train,y_train)"
   ]
  },
  {
   "cell_type": "code",
   "execution_count": 66,
   "id": "145048a1",
   "metadata": {},
   "outputs": [],
   "source": [
    "#predicting the target value from the model for the samples\n",
    "y_train_xgb = xgb.predict(X_train)\n",
    "y_test_xgb = xgb.predict(X_test)"
   ]
  },
  {
   "cell_type": "code",
   "execution_count": 67,
   "id": "dbb29de7",
   "metadata": {},
   "outputs": [
    {
     "name": "stdout",
     "output_type": "stream",
     "text": [
      "XGBoost Classifier : Accuracy on training Data: 0.987\n",
      "XGBoost Classifier : Accuracy on test Data: 0.969\n",
      "\n",
      "XGBoost Classifier : f1_score on training Data: 0.988\n",
      "XGBoost Classifier : f1_score on test Data: 0.973\n",
      "\n",
      "XGBoost Classifier : Recall on training Data: 0.993\n",
      "XGBoost Classifier : Recall on test Data: 0.993\n",
      "\n",
      "XGBoost Classifier : precision on training Data: 0.984\n",
      "XGBoost Classifier : precision on test Data: 0.984\n"
     ]
    }
   ],
   "source": [
    "#computing the accuracy, f1_score, Recall, precision of the model performance\n",
    "\n",
    "acc_train_xgb = metrics.accuracy_score(y_train,y_train_xgb)\n",
    "acc_test_xgb = metrics.accuracy_score(y_test,y_test_xgb)\n",
    "print(\"XGBoost Classifier : Accuracy on training Data: {:.3f}\".format(acc_train_xgb))\n",
    "print(\"XGBoost Classifier : Accuracy on test Data: {:.3f}\".format(acc_test_xgb))\n",
    "print()\n",
    "\n",
    "f1_score_train_xgb = metrics.f1_score(y_train,y_train_xgb)\n",
    "f1_score_test_xgb = metrics.f1_score(y_test,y_test_xgb)\n",
    "print(\"XGBoost Classifier : f1_score on training Data: {:.3f}\".format(f1_score_train_xgb))\n",
    "print(\"XGBoost Classifier : f1_score on test Data: {:.3f}\".format(f1_score_test_xgb))\n",
    "print()\n",
    "\n",
    "recall_score_train_xgb = metrics.recall_score(y_train,y_train_xgb)\n",
    "recall_score_test_xgb = metrics.recall_score(y_test,y_test_xgb)\n",
    "print(\"XGBoost Classifier : Recall on training Data: {:.3f}\".format(recall_score_train_xgb))\n",
    "print(\"XGBoost Classifier : Recall on test Data: {:.3f}\".format(recall_score_train_xgb))\n",
    "print()\n",
    "\n",
    "precision_score_train_xgb = metrics.precision_score(y_train,y_train_xgb)\n",
    "precision_score_test_xgb = metrics.precision_score(y_test,y_test_xgb)\n",
    "print(\"XGBoost Classifier : precision on training Data: {:.3f}\".format(precision_score_train_xgb))\n",
    "print(\"XGBoost Classifier : precision on test Data: {:.3f}\".format(precision_score_train_xgb))"
   ]
  },
  {
   "cell_type": "code",
   "execution_count": 68,
   "id": "4b43d60b",
   "metadata": {},
   "outputs": [],
   "source": [
    "#storing the results. The below mentioned order of parameter passing is important.\n",
    "\n",
    "storeResults('XGBoost Classifier',acc_test_xgb,f1_score_test_xgb,\n",
    "             recall_score_train_xgb,precision_score_train_xgb)"
   ]
  },
  {
   "cell_type": "markdown",
   "id": "c87f8a55",
   "metadata": {},
   "source": [
    "Multi-layer Perceptron classifier\n"
   ]
  },
  {
   "cell_type": "code",
   "execution_count": 69,
   "id": "5bfc3ea7",
   "metadata": {},
   "outputs": [
    {
     "data": {
      "text/plain": [
       "MLPClassifier()"
      ]
     },
     "execution_count": 69,
     "metadata": {},
     "output_type": "execute_result"
    }
   ],
   "source": [
    "# Multi-layer Perceptron Classifier Model\n",
    "from sklearn.neural_network import MLPClassifier\n",
    "\n",
    "# instantiate the model\n",
    "mlp = MLPClassifier()\n",
    "#mlp = GridSearchCV(mlpc, parameter_space)\n",
    "\n",
    "# fit the model \n",
    "mlp.fit(X_train,y_train)"
   ]
  },
  {
   "cell_type": "code",
   "execution_count": 70,
   "id": "2cf7f1af",
   "metadata": {},
   "outputs": [],
   "source": [
    "#predicting the target value from the model for the samples\n",
    "y_train_mlp = mlp.predict(X_train)\n",
    "y_test_mlp = mlp.predict(X_test)"
   ]
  },
  {
   "cell_type": "code",
   "execution_count": 71,
   "id": "d68aa680",
   "metadata": {},
   "outputs": [
    {
     "name": "stdout",
     "output_type": "stream",
     "text": [
      "Multi-layer Perceptron : Accuracy on training Data: 0.986\n",
      "Multi-layer Perceptron : Accuracy on test Data: 0.972\n",
      "\n",
      "Multi-layer Perceptron : f1_score on training Data: 0.987\n",
      "Multi-layer Perceptron : f1_score on test Data: 0.987\n",
      "\n",
      "Multi-layer Perceptron : Recall on training Data: 0.987\n",
      "Multi-layer Perceptron : Recall on test Data: 0.981\n",
      "\n",
      "Multi-layer Perceptron : precision on training Data: 0.987\n",
      "Multi-layer Perceptron : precision on test Data: 0.969\n"
     ]
    }
   ],
   "source": [
    "#computing the accuracy, f1_score, Recall, precision of the model performance\n",
    "\n",
    "acc_train_mlp  = metrics.accuracy_score(y_train,y_train_mlp)\n",
    "acc_test_mlp = metrics.accuracy_score(y_test,y_test_mlp)\n",
    "print(\"Multi-layer Perceptron : Accuracy on training Data: {:.3f}\".format(acc_train_mlp))\n",
    "print(\"Multi-layer Perceptron : Accuracy on test Data: {:.3f}\".format(acc_test_mlp))\n",
    "print()\n",
    "\n",
    "f1_score_train_mlp = metrics.f1_score(y_train,y_train_mlp)\n",
    "f1_score_test_mlp = metrics.f1_score(y_test,y_test_mlp)\n",
    "print(\"Multi-layer Perceptron : f1_score on training Data: {:.3f}\".format(f1_score_train_mlp))\n",
    "print(\"Multi-layer Perceptron : f1_score on test Data: {:.3f}\".format(f1_score_train_mlp))\n",
    "print()\n",
    "\n",
    "recall_score_train_mlp = metrics.recall_score(y_train,y_train_mlp)\n",
    "recall_score_test_mlp = metrics.recall_score(y_test,y_test_mlp)\n",
    "print(\"Multi-layer Perceptron : Recall on training Data: {:.3f}\".format(recall_score_train_mlp))\n",
    "print(\"Multi-layer Perceptron : Recall on test Data: {:.3f}\".format(recall_score_test_mlp))\n",
    "print()\n",
    "\n",
    "precision_score_train_mlp = metrics.precision_score(y_train,y_train_mlp)\n",
    "precision_score_test_mlp = metrics.precision_score(y_test,y_test_mlp)\n",
    "print(\"Multi-layer Perceptron : precision on training Data: {:.3f}\".format(precision_score_train_mlp))\n",
    "print(\"Multi-layer Perceptron : precision on test Data: {:.3f}\".format(precision_score_test_mlp))"
   ]
  },
  {
   "cell_type": "code",
   "execution_count": 72,
   "id": "8983b248",
   "metadata": {},
   "outputs": [],
   "source": [
    "#storing the results. The below mentioned order of parameter passing is important.\n",
    "\n",
    "storeResults('Multi-layer Perceptron',acc_test_mlp,f1_score_test_mlp,\n",
    "             recall_score_train_mlp,precision_score_train_mlp)"
   ]
  },
  {
   "cell_type": "markdown",
   "id": "2cef57ca",
   "metadata": {},
   "source": [
    "## 6. Comparision of Models\n",
    "To compare the models performance, a dataframe is created. The columns of this dataframe are the lists created to store the results of the model."
   ]
  },
  {
   "cell_type": "code",
   "execution_count": 107,
   "id": "bcddf7ae",
   "metadata": {},
   "outputs": [],
   "source": [
    "#creating dataframe\n",
    "result = pd.DataFrame({ 'ML Model' : ML_Model,\n",
    "                        'Accuracy' : accuracy,\n",
    "                        'f1_score' : f1_score,\n",
    "                        'Recall'   : recall,\n",
    "                        'Precision': precision,\n",
    "                      })"
   ]
  },
  {
   "cell_type": "code",
   "execution_count": 108,
   "id": "b5ec314b",
   "metadata": {},
   "outputs": [],
   "source": [
    "#Sorting the datafram on accuracy\n",
    "sorted_result=result.sort_values(by=['Accuracy', 'f1_score'],ascending=False).reset_index(drop=True)"
   ]
  },
  {
   "cell_type": "code",
   "execution_count": 109,
   "id": "b594a036",
   "metadata": {},
   "outputs": [
    {
     "data": {
      "image/png": "[encoded data removed]",
      "text/plain": [
       "<Figure size 648x504 with 1 Axes>"
      ]
     },
     "metadata": {
      "needs_background": "light"
     },
     "output_type": "display_data"
    }
   ],
   "source": [
    "#checking the feature improtance in the model\n",
    "plt.figure(figsize=(9,7))\n",
    "n_features = X_train.shape[1]\n",
    "plt.barh(range(n_features), gbc.feature_importances_, align='center')\n",
    "plt.yticks(np.arange(n_features), X_train.columns)\n",
    "plt.title(\"Feature importances using permutation on full model\")\n",
    "plt.xlabel(\"Feature importance\")\n",
    "plt.ylabel(\"Feature\")\n",
    "plt.show()"
   ]
  },
  {
   "cell_type": "code",
   "execution_count": 110,
   "id": "020880b6",
   "metadata": {},
   "outputs": [
    {
     "data": {
      "image/png": "[encoded data removed]",
      "text/plain": [
       "<Figure size 648x504 with 1 Axes>"
      ]
     },
     "metadata": {
      "needs_background": "light"
     },
     "output_type": "display_data"
    }
   ],
   "source": [
    "from matplotlib.pyplot import xticks\n",
    "plt.figure(figsize=(9,7))\n",
    "x=sns.barplot(x='ML Model',y='Accuracy',data=result)\n",
    "plt.ylim([0.5,1])\n",
    "xticks(rotation=90)\n",
    "for i in x.containers:\n",
    "    x.bar_label(i,)"
   ]
  },
  {
   "cell_type": "code",
   "execution_count": 111,
   "id": "1a85c56d",
   "metadata": {},
   "outputs": [
    {
     "data": {
      "image/png": "[encoded data removed]",
      "text/plain": [
       "<Figure size 648x504 with 1 Axes>"
      ]
     },
     "metadata": {
      "needs_background": "light"
     },
     "output_type": "display_data"
    }
   ],
   "source": [
    "from matplotlib.pyplot import xticks\n",
    "plt.figure(figsize=(9,7))\n",
    "x=sns.barplot(x='ML Model',y='f1_score',data=result)\n",
    "xticks(rotation=90)\n",
    "for i in x.containers:\n",
    "    x.bar_label(i,)"
   ]
  },
  {
   "cell_type": "code",
   "execution_count": 112,
   "id": "2f48880c",
   "metadata": {},
   "outputs": [
    {
     "data": {
      "image/png": "[encoded data removed]",
      "text/plain": [
       "<Figure size 648x504 with 1 Axes>"
      ]
     },
     "metadata": {
      "needs_background": "light"
     },
     "output_type": "display_data"
    }
   ],
   "source": [
    "from matplotlib.pyplot import xticks\n",
    "plt.figure(figsize=(9,7))\n",
    "x=sns.barplot(x='ML Model',y='Recall',data=result)\n",
    "plt.ylim([0,1.1])\n",
    "xticks(rotation=90)\n",
    "for i in x.containers:\n",
    "    x.bar_label(i,)"
   ]
  },
  {
   "cell_type": "code",
   "execution_count": 113,
   "id": "2c5549ca",
   "metadata": {},
   "outputs": [
    {
     "data": {
      "image/png": "[encoded data removed]",
      "text/plain": [
       "<Figure size 648x504 with 1 Axes>"
      ]
     },
     "metadata": {
      "needs_background": "light"
     },
     "output_type": "display_data"
    }
   ],
   "source": [
    "from matplotlib.pyplot import xticks\n",
    "plt.figure(figsize=(9,7))\n",
    "x=sns.barplot(x='ML Model',y='Precision',data=result)\n",
    "plt.ylim([0.5,1.05])\n",
    "xticks(rotation=90)\n",
    "for i in x.containers:\n",
    "    x.bar_label(i,)"
   ]
  },
  {
   "cell_type": "code",
   "execution_count": null,
   "id": "9466bd9f",
   "metadata": {},
   "outputs": [],
   "source": []
  }
 ],
 "metadata": {
  "kernelspec": {
   "display_name": "Python 3 (ipykernel)",
   "language": "python",
   "name": "python3"
  },
  "language_info": {
   "codemirror_mode": {
    "name": "ipython",
    "version": 3
   },
   "file_extension": ".py",
   "mimetype": "text/x-python",
   "name": "python",
   "nbconvert_exporter": "python",
   "pygments_lexer": "ipython3",
   "version": "3.9.7"
  }
 },
 "nbformat": 4,
 "nbformat_minor": 5
}
